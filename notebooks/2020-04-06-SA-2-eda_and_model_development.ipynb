{
 "cells": [
  {
   "cell_type": "markdown",
   "metadata": {},
   "source": [
    "#### Build a machine learning model to predict user engagement using the target metric"
   ]
  },
  {
   "cell_type": "markdown",
   "metadata": {},
   "source": [
    "Steps:\n",
    "- Label creation\n",
    "- Create classifier logic from metric definition\n",
    "- Univarate Analysis\n",
    "- Bivarate Analysis\n",
    "- Class Imbalance check\n",
    "- Missing Value Treatment\n",
    "- Feature Engineering\n",
    "- Correlation\n",
    "- Split-out Training and Validation dataset\n",
    "- Feature Selection\n",
    "- Evaluate Algorithms\n",
    "- Model Tuning\n",
    "- Feature Importances"
   ]
  },
  {
   "cell_type": "code",
   "execution_count": null,
   "metadata": {},
   "outputs": [],
   "source": []
  },
  {
   "cell_type": "code",
   "execution_count": 1,
   "metadata": {},
   "outputs": [],
   "source": [
    "# Import the neccessary modules for data manipulation and visual representation\n",
    "import pandas as pd\n",
    "import numpy as np\n",
    "import matplotlib.pyplot as plt\n",
    "import matplotlib as matplot\n",
    "import seaborn as sns\n",
    "%matplotlib inline\n",
    "\n",
    "from sklearn.preprocessing import LabelEncoder, OneHotEncoder\n",
    "from sklearn.model_selection import train_test_split\n",
    "from sklearn.metrics import roc_auc_score"
   ]
  },
  {
   "cell_type": "code",
   "execution_count": 2,
   "metadata": {},
   "outputs": [],
   "source": [
    "from sklearn.preprocessing import StandardScaler\n",
    "from sklearn.model_selection import train_test_split\n",
    "from sklearn.model_selection import KFold\n",
    "from sklearn.model_selection import cross_val_score\n",
    "from sklearn.model_selection import GridSearchCV\n",
    "from sklearn.metrics import classification_report\n",
    "from sklearn.metrics import confusion_matrix\n",
    "from sklearn.metrics import accuracy_score\n",
    "from sklearn.metrics import f1_score\n",
    "from sklearn.linear_model import LogisticRegression\n",
    "from sklearn.tree import DecisionTreeClassifier\n",
    "from sklearn.neighbors import KNeighborsClassifier\n",
    "from sklearn.discriminant_analysis import LinearDiscriminantAnalysis\n",
    "from sklearn.naive_bayes import GaussianNB\n",
    "from sklearn.ensemble import GradientBoostingClassifier\n",
    "from sklearn.ensemble import RandomForestClassifier\n",
    "from sklearn.ensemble import ExtraTreesClassifier\n",
    "from sklearn import tree\n",
    "from sklearn.metrics import roc_curve"
   ]
  },
  {
   "cell_type": "code",
   "execution_count": 3,
   "metadata": {},
   "outputs": [],
   "source": [
    "# load datasets\n",
    "df_users = pd.read_csv('../data/users.csv', parse_dates=['created_date'])\n",
    "df_transactions = pd.read_csv('../data/transactions.csv', parse_dates=['created_date'])"
   ]
  },
  {
   "cell_type": "markdown",
   "metadata": {},
   "source": [
    "#### Descriptive analysis"
   ]
  },
  {
   "cell_type": "markdown",
   "metadata": {},
   "source": [
    "Data quality checks were carried out in the \"target_metrics_analysis\" notebook, here further descriptive statistics will be done"
   ]
  },
  {
   "cell_type": "code",
   "execution_count": 4,
   "metadata": {},
   "outputs": [
    {
     "data": {
      "text/html": [
       "<div>\n",
       "<style scoped>\n",
       "    .dataframe tbody tr th:only-of-type {\n",
       "        vertical-align: middle;\n",
       "    }\n",
       "\n",
       "    .dataframe tbody tr th {\n",
       "        vertical-align: top;\n",
       "    }\n",
       "\n",
       "    .dataframe thead th {\n",
       "        text-align: right;\n",
       "    }\n",
       "</style>\n",
       "<table border=\"1\" class=\"dataframe\">\n",
       "  <thead>\n",
       "    <tr style=\"text-align: right;\">\n",
       "      <th></th>\n",
       "      <th>count</th>\n",
       "      <th>unique</th>\n",
       "      <th>top</th>\n",
       "      <th>freq</th>\n",
       "    </tr>\n",
       "  </thead>\n",
       "  <tbody>\n",
       "    <tr>\n",
       "      <th>transaction_id</th>\n",
       "      <td>2740075</td>\n",
       "      <td>2740075</td>\n",
       "      <td>transaction_1472476</td>\n",
       "      <td>1</td>\n",
       "    </tr>\n",
       "    <tr>\n",
       "      <th>transactions_type</th>\n",
       "      <td>2740075</td>\n",
       "      <td>10</td>\n",
       "      <td>CARD_PAYMENT</td>\n",
       "      <td>1475780</td>\n",
       "    </tr>\n",
       "    <tr>\n",
       "      <th>transactions_currency</th>\n",
       "      <td>2740075</td>\n",
       "      <td>35</td>\n",
       "      <td>EUR</td>\n",
       "      <td>1160135</td>\n",
       "    </tr>\n",
       "    <tr>\n",
       "      <th>amount</th>\n",
       "      <td>2.74008e+06</td>\n",
       "      <td>48548</td>\n",
       "      <td>0</td>\n",
       "      <td>58604</td>\n",
       "    </tr>\n",
       "    <tr>\n",
       "      <th>merchant_country</th>\n",
       "      <td>1581096</td>\n",
       "      <td>198</td>\n",
       "      <td>GBR</td>\n",
       "      <td>455924</td>\n",
       "    </tr>\n",
       "    <tr>\n",
       "      <th>user_id</th>\n",
       "      <td>2740075</td>\n",
       "      <td>18766</td>\n",
       "      <td>user_12657</td>\n",
       "      <td>5285</td>\n",
       "    </tr>\n",
       "    <tr>\n",
       "      <th>created_date</th>\n",
       "      <td>2740075</td>\n",
       "      <td>2739658</td>\n",
       "      <td>2018-12-04 12:13:34.572326</td>\n",
       "      <td>4</td>\n",
       "    </tr>\n",
       "  </tbody>\n",
       "</table>\n",
       "</div>"
      ],
      "text/plain": [
       "                             count   unique                         top  \\\n",
       "transaction_id             2740075  2740075         transaction_1472476   \n",
       "transactions_type          2740075       10                CARD_PAYMENT   \n",
       "transactions_currency      2740075       35                         EUR   \n",
       "amount                 2.74008e+06    48548                           0   \n",
       "merchant_country           1581096      198                         GBR   \n",
       "user_id                    2740075    18766                  user_12657   \n",
       "created_date               2740075  2739658  2018-12-04 12:13:34.572326   \n",
       "\n",
       "                          freq  \n",
       "transaction_id               1  \n",
       "transactions_type      1475780  \n",
       "transactions_currency  1160135  \n",
       "amount                   58604  \n",
       "merchant_country        455924  \n",
       "user_id                   5285  \n",
       "created_date                 4  "
      ]
     },
     "execution_count": 4,
     "metadata": {},
     "output_type": "execute_result"
    }
   ],
   "source": [
    "# summary stat\n",
    "df_transactions.astype('object').describe().transpose()"
   ]
  },
  {
   "cell_type": "markdown",
   "metadata": {},
   "source": [
    "From the transaction summary stat above:\n",
    "- **transactions_type** as 10 unique values and the most occurring of them is 'CARD_PAYMENT'\n",
    "- **transactions_currency** as 35 different types of currencies and the most used currency is 'EUR'\n",
    "- **merchant_country** contains 198 unique values and 'GBR' as higest count\n",
    "- **user_id** as 18766 users, of all the users user_12657 as the higest transaction count"
   ]
  },
  {
   "cell_type": "code",
   "execution_count": 5,
   "metadata": {},
   "outputs": [
    {
     "data": {
      "text/html": [
       "<div>\n",
       "<style scoped>\n",
       "    .dataframe tbody tr th:only-of-type {\n",
       "        vertical-align: middle;\n",
       "    }\n",
       "\n",
       "    .dataframe tbody tr th {\n",
       "        vertical-align: top;\n",
       "    }\n",
       "\n",
       "    .dataframe thead th {\n",
       "        text-align: right;\n",
       "    }\n",
       "</style>\n",
       "<table border=\"1\" class=\"dataframe\">\n",
       "  <thead>\n",
       "    <tr style=\"text-align: right;\">\n",
       "      <th></th>\n",
       "      <th>count</th>\n",
       "      <th>unique</th>\n",
       "      <th>top</th>\n",
       "      <th>freq</th>\n",
       "    </tr>\n",
       "  </thead>\n",
       "  <tbody>\n",
       "    <tr>\n",
       "      <th>user_id</th>\n",
       "      <td>19430</td>\n",
       "      <td>19430</td>\n",
       "      <td>user_10775</td>\n",
       "      <td>1</td>\n",
       "    </tr>\n",
       "    <tr>\n",
       "      <th>birth_year</th>\n",
       "      <td>19430</td>\n",
       "      <td>69</td>\n",
       "      <td>1992</td>\n",
       "      <td>955</td>\n",
       "    </tr>\n",
       "    <tr>\n",
       "      <th>country</th>\n",
       "      <td>19430</td>\n",
       "      <td>41</td>\n",
       "      <td>GB</td>\n",
       "      <td>6315</td>\n",
       "    </tr>\n",
       "    <tr>\n",
       "      <th>created_date</th>\n",
       "      <td>19430</td>\n",
       "      <td>19430</td>\n",
       "      <td>2018-08-17 03:48:16.894465</td>\n",
       "      <td>1</td>\n",
       "    </tr>\n",
       "    <tr>\n",
       "      <th>plan</th>\n",
       "      <td>19430</td>\n",
       "      <td>6</td>\n",
       "      <td>STANDARD</td>\n",
       "      <td>17992</td>\n",
       "    </tr>\n",
       "  </tbody>\n",
       "</table>\n",
       "</div>"
      ],
      "text/plain": [
       "              count unique                         top   freq\n",
       "user_id       19430  19430                  user_10775      1\n",
       "birth_year    19430     69                        1992    955\n",
       "country       19430     41                          GB   6315\n",
       "created_date  19430  19430  2018-08-17 03:48:16.894465      1\n",
       "plan          19430      6                    STANDARD  17992"
      ]
     },
     "execution_count": 5,
     "metadata": {},
     "output_type": "execute_result"
    }
   ],
   "source": [
    "# summary stat\n",
    "df_users.astype('object').describe().transpose()"
   ]
  },
  {
   "cell_type": "markdown",
   "metadata": {},
   "source": [
    "From the user summary stat above:\n",
    "- **birth_year** as 69 unique values and the most occurring value is '1992'. A lot of users entered '1992' as their birth year.\n",
    "- **country** as 41 different types of countries and the most occurring is 'GB'\n",
    "- **plan** contains 6 unique values and 'STANDARD' as higest count"
   ]
  },
  {
   "cell_type": "code",
   "execution_count": 6,
   "metadata": {},
   "outputs": [
    {
     "name": "stdout",
     "output_type": "stream",
     "text": [
      "-------Users-------\n",
      "<class 'pandas.core.frame.DataFrame'>\n",
      "RangeIndex: 19430 entries, 0 to 19429\n",
      "Data columns (total 5 columns):\n",
      "user_id         19430 non-null object\n",
      "birth_year      19430 non-null int64\n",
      "country         19430 non-null object\n",
      "created_date    19430 non-null datetime64[ns]\n",
      "plan            19430 non-null object\n",
      "dtypes: datetime64[ns](1), int64(1), object(3)\n",
      "memory usage: 759.1+ KB\n",
      " \n",
      "-------Transactions-------\n",
      "<class 'pandas.core.frame.DataFrame'>\n",
      "RangeIndex: 2740075 entries, 0 to 2740074\n",
      "Data columns (total 7 columns):\n",
      "transaction_id           object\n",
      "transactions_type        object\n",
      "transactions_currency    object\n",
      "amount                   float64\n",
      "merchant_country         object\n",
      "user_id                  object\n",
      "created_date             datetime64[ns]\n",
      "dtypes: datetime64[ns](1), float64(1), object(5)\n",
      "memory usage: 146.3+ MB\n"
     ]
    }
   ],
   "source": [
    "# Check the data type of the features for any inconsistencies\n",
    "print('-------Users-------')\n",
    "df_users.info()\n",
    "print(' ')\n",
    "print('-------Transactions-------')\n",
    "df_transactions.info()"
   ]
  },
  {
   "cell_type": "markdown",
   "metadata": {},
   "source": [
    "#### Label the data\n",
    "An engaged user can be defined as a user that carries out transactions via any of the listed GemStones products above in a month.<br>\n",
    "Monthly Active Users (MAU) = total number of unique active users in a month<br>\n",
    "An unengaged user can be defined as a user that does not carry out any transaction in a month.<br>\n",
    "In creating a machine learning classifer, the classifier logic will be built off of the earlier definition of engagement."
   ]
  },
  {
   "cell_type": "markdown",
   "metadata": {},
   "source": [
    "#### Create classifier logic from metric definition"
   ]
  },
  {
   "cell_type": "code",
   "execution_count": 7,
   "metadata": {},
   "outputs": [
    {
     "data": {
      "text/html": [
       "<div>\n",
       "<style scoped>\n",
       "    .dataframe tbody tr th:only-of-type {\n",
       "        vertical-align: middle;\n",
       "    }\n",
       "\n",
       "    .dataframe tbody tr th {\n",
       "        vertical-align: top;\n",
       "    }\n",
       "\n",
       "    .dataframe thead th {\n",
       "        text-align: right;\n",
       "    }\n",
       "</style>\n",
       "<table border=\"1\" class=\"dataframe\">\n",
       "  <thead>\n",
       "    <tr style=\"text-align: right;\">\n",
       "      <th></th>\n",
       "      <th>transaction_id</th>\n",
       "      <th>transactions_type</th>\n",
       "      <th>transactions_currency</th>\n",
       "      <th>amount</th>\n",
       "      <th>merchant_country</th>\n",
       "      <th>user_id</th>\n",
       "      <th>created_date</th>\n",
       "      <th>year_month</th>\n",
       "    </tr>\n",
       "  </thead>\n",
       "  <tbody>\n",
       "    <tr>\n",
       "      <th>0</th>\n",
       "      <td>transaction_0</td>\n",
       "      <td>TRANSFER</td>\n",
       "      <td>AED</td>\n",
       "      <td>4.55</td>\n",
       "      <td>NaN</td>\n",
       "      <td>user_898</td>\n",
       "      <td>2018-04-03 03:34:21.784487</td>\n",
       "      <td>2018-04</td>\n",
       "    </tr>\n",
       "    <tr>\n",
       "      <th>1</th>\n",
       "      <td>transaction_1</td>\n",
       "      <td>CARD_PAYMENT</td>\n",
       "      <td>AED</td>\n",
       "      <td>15.50</td>\n",
       "      <td>ARE</td>\n",
       "      <td>user_1652</td>\n",
       "      <td>2019-03-19 06:15:59.537032</td>\n",
       "      <td>2019-03</td>\n",
       "    </tr>\n",
       "    <tr>\n",
       "      <th>2</th>\n",
       "      <td>transaction_2</td>\n",
       "      <td>CARD_PAYMENT</td>\n",
       "      <td>AED</td>\n",
       "      <td>43.40</td>\n",
       "      <td>ARE</td>\n",
       "      <td>user_1652</td>\n",
       "      <td>2019-03-18 18:53:41.323032</td>\n",
       "      <td>2019-03</td>\n",
       "    </tr>\n",
       "    <tr>\n",
       "      <th>3</th>\n",
       "      <td>transaction_3</td>\n",
       "      <td>TRANSFER</td>\n",
       "      <td>AED</td>\n",
       "      <td>10043.01</td>\n",
       "      <td>NaN</td>\n",
       "      <td>user_1652</td>\n",
       "      <td>2019-03-22 14:20:01.513032</td>\n",
       "      <td>2019-03</td>\n",
       "    </tr>\n",
       "    <tr>\n",
       "      <th>4</th>\n",
       "      <td>transaction_4</td>\n",
       "      <td>CARD_PAYMENT</td>\n",
       "      <td>AED</td>\n",
       "      <td>43.81</td>\n",
       "      <td>ARE</td>\n",
       "      <td>user_5509</td>\n",
       "      <td>2019-03-22 05:42:50.316652</td>\n",
       "      <td>2019-03</td>\n",
       "    </tr>\n",
       "  </tbody>\n",
       "</table>\n",
       "</div>"
      ],
      "text/plain": [
       "  transaction_id transactions_type transactions_currency    amount  \\\n",
       "0  transaction_0          TRANSFER                   AED      4.55   \n",
       "1  transaction_1      CARD_PAYMENT                   AED     15.50   \n",
       "2  transaction_2      CARD_PAYMENT                   AED     43.40   \n",
       "3  transaction_3          TRANSFER                   AED  10043.01   \n",
       "4  transaction_4      CARD_PAYMENT                   AED     43.81   \n",
       "\n",
       "  merchant_country    user_id               created_date year_month  \n",
       "0              NaN   user_898 2018-04-03 03:34:21.784487    2018-04  \n",
       "1              ARE  user_1652 2019-03-19 06:15:59.537032    2019-03  \n",
       "2              ARE  user_1652 2019-03-18 18:53:41.323032    2019-03  \n",
       "3              NaN  user_1652 2019-03-22 14:20:01.513032    2019-03  \n",
       "4              ARE  user_5509 2019-03-22 05:42:50.316652    2019-03  "
      ]
     },
     "execution_count": 7,
     "metadata": {},
     "output_type": "execute_result"
    }
   ],
   "source": [
    "# Create year_month feature from created_date\n",
    "df_transactions['year_month'] = df_transactions['created_date'].dt.to_period('M')\n",
    "df_transactions.head()"
   ]
  },
  {
   "cell_type": "code",
   "execution_count": 8,
   "metadata": {},
   "outputs": [
    {
     "data": {
      "text/html": [
       "<div>\n",
       "<style scoped>\n",
       "    .dataframe tbody tr th:only-of-type {\n",
       "        vertical-align: middle;\n",
       "    }\n",
       "\n",
       "    .dataframe tbody tr th {\n",
       "        vertical-align: top;\n",
       "    }\n",
       "\n",
       "    .dataframe thead th {\n",
       "        text-align: right;\n",
       "    }\n",
       "</style>\n",
       "<table border=\"1\" class=\"dataframe\">\n",
       "  <thead>\n",
       "    <tr style=\"text-align: right;\">\n",
       "      <th></th>\n",
       "      <th>month</th>\n",
       "      <th>user_id</th>\n",
       "    </tr>\n",
       "  </thead>\n",
       "  <tbody>\n",
       "    <tr>\n",
       "      <th>0</th>\n",
       "      <td>2018-01</td>\n",
       "      <td>user_0</td>\n",
       "    </tr>\n",
       "    <tr>\n",
       "      <th>1</th>\n",
       "      <td>2018-01</td>\n",
       "      <td>user_1</td>\n",
       "    </tr>\n",
       "    <tr>\n",
       "      <th>2</th>\n",
       "      <td>2018-01</td>\n",
       "      <td>user_10</td>\n",
       "    </tr>\n",
       "    <tr>\n",
       "      <th>3</th>\n",
       "      <td>2018-01</td>\n",
       "      <td>user_100</td>\n",
       "    </tr>\n",
       "    <tr>\n",
       "      <th>4</th>\n",
       "      <td>2018-01</td>\n",
       "      <td>user_1000</td>\n",
       "    </tr>\n",
       "  </tbody>\n",
       "</table>\n",
       "</div>"
      ],
      "text/plain": [
       "     month    user_id\n",
       "0  2018-01     user_0\n",
       "1  2018-01     user_1\n",
       "2  2018-01    user_10\n",
       "3  2018-01   user_100\n",
       "4  2018-01  user_1000"
      ]
     },
     "execution_count": 8,
     "metadata": {},
     "output_type": "execute_result"
    }
   ],
   "source": [
    "# Aggregate records\n",
    "df_transactions_grouped = df_transactions.groupby(by=['year_month','user_id'], as_index=False).count()[['year_month','user_id']]\n",
    "df_transactions_grouped.rename(columns={\"year_month\": \"month\"}, inplace=True)\n",
    "df_transactions_grouped.head()"
   ]
  },
  {
   "cell_type": "code",
   "execution_count": 9,
   "metadata": {},
   "outputs": [],
   "source": [
    "def plot_attribute(df, attribute,title_text,hue_attribute=None):\n",
    "    '''plots a seaborn countplot'''\n",
    "    \n",
    "    sns.set(style=\"whitegrid\",font_scale=1.3)\n",
    "\n",
    "    # Initialize the matplotlib figure\n",
    "    f, ax = plt.subplots(figsize=(20, 8))\n",
    "    sns.set_color_codes(\"pastel\")\n",
    "    \n",
    "    if hue_attribute == 'engaged':\n",
    "        sns.countplot(x=attribute, data=df, color=\"royalblue\",hue=hue_attribute,order=df[attribute].value_counts().index);\n",
    "    else:\n",
    "        sns.countplot(x=attribute, data=df, color=\"royalblue\", alpha=0.8,order=df[attribute].value_counts().index);\n",
    "        \n",
    "    # Add informative axis label\n",
    "    ax.set(title=title_text+' '+attribute, xlabel=attribute)\n",
    "    sns.despine(left=True, bottom=True)\n",
    "    \n",
    "    ax.set(xlabel=attribute, ylabel='Frequency')"
   ]
  },
  {
   "cell_type": "code",
   "execution_count": 10,
   "metadata": {},
   "outputs": [],
   "source": [
    "def get_user_activity_count(user_id, df_trx):\n",
    "    '''extracts the transactions of a selected user'''    \n",
    "    \n",
    "    return len(df_trx[df_trx['user_id']== user_id])"
   ]
  },
  {
   "cell_type": "code",
   "execution_count": 11,
   "metadata": {},
   "outputs": [],
   "source": [
    "def get_user_inactivity_count(user_id, df_trx, df_month_list):\n",
    "    '''get user inactive months using list of months user was active'''    \n",
    "    \n",
    "    # get the user's active months\n",
    "    df_user_active_months = df_trx[df_trx['user_id']== user_id][['month']]\n",
    "    \n",
    "    # get the user's in active months    \n",
    "    df_months = df_month_list[~df_month_list['month'].isin(df_user_active_months.month.to_list())]\n",
    "    \n",
    "    count = 0\n",
    "    if len(df_months) > 0:\n",
    "        count = df_months.nunique().values[0]\n",
    "     \n",
    "    return count"
   ]
  },
  {
   "cell_type": "code",
   "execution_count": 12,
   "metadata": {},
   "outputs": [],
   "source": [
    "def get_inactivity_percentage(active_counts,inactive_counts):\n",
    "    '''calculate proportion of inactivity'''\n",
    "    return (inactive_counts/(active_counts + inactive_counts)) * 100"
   ]
  },
  {
   "cell_type": "code",
   "execution_count": 13,
   "metadata": {},
   "outputs": [],
   "source": [
    "# set engagement flag (the ideal threshold will be best gotten from multiple experiments using various \n",
    "# threshold values in line with what business stakeholders believe will move the engagement metric niddle)\n",
    "# for this project I used a threshold of 60%, meaning if a user is inactive 60% of the time, the user is labeled unengaged. \n",
    "def get_engagement_label(inactivity_percentage):\n",
    "    '''returns the classification label (0 = not engaged and 1 = engaged) '''\n",
    "    if(inactivity_percentage >= 60):\n",
    "        return 0\n",
    "    else:\n",
    "        return 1"
   ]
  },
  {
   "cell_type": "code",
   "execution_count": 14,
   "metadata": {},
   "outputs": [],
   "source": [
    "# Dataframe to hold engagement computations, this will contain the various aggregations and new features created\n",
    "df_user_activities = pd.DataFrame(data = df_users.user_id.unique(), columns=['user_id'])"
   ]
  },
  {
   "cell_type": "code",
   "execution_count": 15,
   "metadata": {},
   "outputs": [
    {
     "data": {
      "text/html": [
       "<div>\n",
       "<style scoped>\n",
       "    .dataframe tbody tr th:only-of-type {\n",
       "        vertical-align: middle;\n",
       "    }\n",
       "\n",
       "    .dataframe tbody tr th {\n",
       "        vertical-align: top;\n",
       "    }\n",
       "\n",
       "    .dataframe thead th {\n",
       "        text-align: right;\n",
       "    }\n",
       "</style>\n",
       "<table border=\"1\" class=\"dataframe\">\n",
       "  <thead>\n",
       "    <tr style=\"text-align: right;\">\n",
       "      <th></th>\n",
       "      <th>user_id</th>\n",
       "      <th>active_count</th>\n",
       "    </tr>\n",
       "  </thead>\n",
       "  <tbody>\n",
       "    <tr>\n",
       "      <th>0</th>\n",
       "      <td>user_0</td>\n",
       "      <td>17</td>\n",
       "    </tr>\n",
       "    <tr>\n",
       "      <th>1</th>\n",
       "      <td>user_1</td>\n",
       "      <td>12</td>\n",
       "    </tr>\n",
       "    <tr>\n",
       "      <th>2</th>\n",
       "      <td>user_2</td>\n",
       "      <td>11</td>\n",
       "    </tr>\n",
       "    <tr>\n",
       "      <th>3</th>\n",
       "      <td>user_3</td>\n",
       "      <td>10</td>\n",
       "    </tr>\n",
       "    <tr>\n",
       "      <th>4</th>\n",
       "      <td>user_4</td>\n",
       "      <td>7</td>\n",
       "    </tr>\n",
       "  </tbody>\n",
       "</table>\n",
       "</div>"
      ],
      "text/plain": [
       "  user_id  active_count\n",
       "0  user_0            17\n",
       "1  user_1            12\n",
       "2  user_2            11\n",
       "3  user_3            10\n",
       "4  user_4             7"
      ]
     },
     "execution_count": 15,
     "metadata": {},
     "output_type": "execute_result"
    }
   ],
   "source": [
    "# Get active count for each user\n",
    "df_user_activities['active_count'] = df_user_activities.apply(lambda row: get_user_activity_count(row['user_id'], \n",
    "                                                                                                 df_transactions_grouped), axis=1)\n",
    "\n",
    "df_user_activities.head()"
   ]
  },
  {
   "cell_type": "markdown",
   "metadata": {},
   "source": [
    "The table above shows the number of months the users were active"
   ]
  },
  {
   "cell_type": "code",
   "execution_count": 16,
   "metadata": {},
   "outputs": [],
   "source": [
    "# Extract unique list of months from the dataset to use in computing engagement\n",
    "df_all_months = df_transactions_grouped[['month']]\n",
    "df_all_months = pd.DataFrame(data=df_all_months.groupby(by='month').count()).reset_index()"
   ]
  },
  {
   "cell_type": "code",
   "execution_count": 17,
   "metadata": {},
   "outputs": [
    {
     "data": {
      "text/html": [
       "<div>\n",
       "<style scoped>\n",
       "    .dataframe tbody tr th:only-of-type {\n",
       "        vertical-align: middle;\n",
       "    }\n",
       "\n",
       "    .dataframe tbody tr th {\n",
       "        vertical-align: top;\n",
       "    }\n",
       "\n",
       "    .dataframe thead th {\n",
       "        text-align: right;\n",
       "    }\n",
       "</style>\n",
       "<table border=\"1\" class=\"dataframe\">\n",
       "  <thead>\n",
       "    <tr style=\"text-align: right;\">\n",
       "      <th></th>\n",
       "      <th>user_id</th>\n",
       "      <th>active_count</th>\n",
       "      <th>inactive_count</th>\n",
       "    </tr>\n",
       "  </thead>\n",
       "  <tbody>\n",
       "    <tr>\n",
       "      <th>0</th>\n",
       "      <td>user_0</td>\n",
       "      <td>17</td>\n",
       "      <td>0</td>\n",
       "    </tr>\n",
       "    <tr>\n",
       "      <th>1</th>\n",
       "      <td>user_1</td>\n",
       "      <td>12</td>\n",
       "      <td>5</td>\n",
       "    </tr>\n",
       "    <tr>\n",
       "      <th>2</th>\n",
       "      <td>user_2</td>\n",
       "      <td>11</td>\n",
       "      <td>6</td>\n",
       "    </tr>\n",
       "    <tr>\n",
       "      <th>3</th>\n",
       "      <td>user_3</td>\n",
       "      <td>10</td>\n",
       "      <td>7</td>\n",
       "    </tr>\n",
       "    <tr>\n",
       "      <th>4</th>\n",
       "      <td>user_4</td>\n",
       "      <td>7</td>\n",
       "      <td>10</td>\n",
       "    </tr>\n",
       "  </tbody>\n",
       "</table>\n",
       "</div>"
      ],
      "text/plain": [
       "  user_id  active_count  inactive_count\n",
       "0  user_0            17               0\n",
       "1  user_1            12               5\n",
       "2  user_2            11               6\n",
       "3  user_3            10               7\n",
       "4  user_4             7              10"
      ]
     },
     "execution_count": 17,
     "metadata": {},
     "output_type": "execute_result"
    }
   ],
   "source": [
    "# Get user's inactive_count\n",
    "df_user_activities['inactive_count'] = df_user_activities.apply(lambda row: get_user_inactivity_count(row['user_id'], \n",
    "                                                                                                 df_transactions_grouped, df_all_months), axis=1)\n",
    "\n",
    "df_user_activities.head()"
   ]
  },
  {
   "cell_type": "markdown",
   "metadata": {},
   "source": [
    "The table above shows the number of months the users were active and inactive.\n",
    "\n",
    "Looking at sample records: \n",
    "- User user_0 was active in 17 months out of all the 17 months observed\n",
    "- User user_3 was active in 10 months and inactive in 7 months\n"
   ]
  },
  {
   "cell_type": "code",
   "execution_count": 18,
   "metadata": {},
   "outputs": [
    {
     "data": {
      "text/html": [
       "<div>\n",
       "<style scoped>\n",
       "    .dataframe tbody tr th:only-of-type {\n",
       "        vertical-align: middle;\n",
       "    }\n",
       "\n",
       "    .dataframe tbody tr th {\n",
       "        vertical-align: top;\n",
       "    }\n",
       "\n",
       "    .dataframe thead th {\n",
       "        text-align: right;\n",
       "    }\n",
       "</style>\n",
       "<table border=\"1\" class=\"dataframe\">\n",
       "  <thead>\n",
       "    <tr style=\"text-align: right;\">\n",
       "      <th></th>\n",
       "      <th>user_id</th>\n",
       "      <th>active_count</th>\n",
       "      <th>inactive_count</th>\n",
       "      <th>inactivity_percent</th>\n",
       "    </tr>\n",
       "  </thead>\n",
       "  <tbody>\n",
       "    <tr>\n",
       "      <th>0</th>\n",
       "      <td>user_0</td>\n",
       "      <td>17</td>\n",
       "      <td>0</td>\n",
       "      <td>0.000000</td>\n",
       "    </tr>\n",
       "    <tr>\n",
       "      <th>1</th>\n",
       "      <td>user_1</td>\n",
       "      <td>12</td>\n",
       "      <td>5</td>\n",
       "      <td>29.411765</td>\n",
       "    </tr>\n",
       "    <tr>\n",
       "      <th>2</th>\n",
       "      <td>user_2</td>\n",
       "      <td>11</td>\n",
       "      <td>6</td>\n",
       "      <td>35.294118</td>\n",
       "    </tr>\n",
       "    <tr>\n",
       "      <th>3</th>\n",
       "      <td>user_3</td>\n",
       "      <td>10</td>\n",
       "      <td>7</td>\n",
       "      <td>41.176471</td>\n",
       "    </tr>\n",
       "    <tr>\n",
       "      <th>4</th>\n",
       "      <td>user_4</td>\n",
       "      <td>7</td>\n",
       "      <td>10</td>\n",
       "      <td>58.823529</td>\n",
       "    </tr>\n",
       "  </tbody>\n",
       "</table>\n",
       "</div>"
      ],
      "text/plain": [
       "  user_id  active_count  inactive_count  inactivity_percent\n",
       "0  user_0            17               0            0.000000\n",
       "1  user_1            12               5           29.411765\n",
       "2  user_2            11               6           35.294118\n",
       "3  user_3            10               7           41.176471\n",
       "4  user_4             7              10           58.823529"
      ]
     },
     "execution_count": 18,
     "metadata": {},
     "output_type": "execute_result"
    }
   ],
   "source": [
    "# Get user's inactivity_percent\n",
    "df_user_activities['inactivity_percent'] = df_user_activities.apply(lambda row: get_inactivity_percentage(row['active_count'], \n",
    "                                                                                                 row['inactive_count']), axis=1)\n",
    "\n",
    "df_user_activities.head()"
   ]
  },
  {
   "cell_type": "code",
   "execution_count": 19,
   "metadata": {},
   "outputs": [
    {
     "data": {
      "text/html": [
       "<div>\n",
       "<style scoped>\n",
       "    .dataframe tbody tr th:only-of-type {\n",
       "        vertical-align: middle;\n",
       "    }\n",
       "\n",
       "    .dataframe tbody tr th {\n",
       "        vertical-align: top;\n",
       "    }\n",
       "\n",
       "    .dataframe thead th {\n",
       "        text-align: right;\n",
       "    }\n",
       "</style>\n",
       "<table border=\"1\" class=\"dataframe\">\n",
       "  <thead>\n",
       "    <tr style=\"text-align: right;\">\n",
       "      <th></th>\n",
       "      <th>user_id</th>\n",
       "      <th>active_count</th>\n",
       "      <th>inactive_count</th>\n",
       "      <th>inactivity_percent</th>\n",
       "      <th>engaged</th>\n",
       "    </tr>\n",
       "  </thead>\n",
       "  <tbody>\n",
       "    <tr>\n",
       "      <th>0</th>\n",
       "      <td>user_0</td>\n",
       "      <td>17</td>\n",
       "      <td>0</td>\n",
       "      <td>0.000000</td>\n",
       "      <td>1</td>\n",
       "    </tr>\n",
       "    <tr>\n",
       "      <th>1</th>\n",
       "      <td>user_1</td>\n",
       "      <td>12</td>\n",
       "      <td>5</td>\n",
       "      <td>29.411765</td>\n",
       "      <td>1</td>\n",
       "    </tr>\n",
       "    <tr>\n",
       "      <th>2</th>\n",
       "      <td>user_2</td>\n",
       "      <td>11</td>\n",
       "      <td>6</td>\n",
       "      <td>35.294118</td>\n",
       "      <td>1</td>\n",
       "    </tr>\n",
       "    <tr>\n",
       "      <th>3</th>\n",
       "      <td>user_3</td>\n",
       "      <td>10</td>\n",
       "      <td>7</td>\n",
       "      <td>41.176471</td>\n",
       "      <td>1</td>\n",
       "    </tr>\n",
       "    <tr>\n",
       "      <th>4</th>\n",
       "      <td>user_4</td>\n",
       "      <td>7</td>\n",
       "      <td>10</td>\n",
       "      <td>58.823529</td>\n",
       "      <td>1</td>\n",
       "    </tr>\n",
       "  </tbody>\n",
       "</table>\n",
       "</div>"
      ],
      "text/plain": [
       "  user_id  active_count  inactive_count  inactivity_percent  engaged\n",
       "0  user_0            17               0            0.000000        1\n",
       "1  user_1            12               5           29.411765        1\n",
       "2  user_2            11               6           35.294118        1\n",
       "3  user_3            10               7           41.176471        1\n",
       "4  user_4             7              10           58.823529        1"
      ]
     },
     "execution_count": 19,
     "metadata": {},
     "output_type": "execute_result"
    }
   ],
   "source": [
    "# Label user engagement based on user's that are inactive 60% of the time\n",
    "df_user_activities['engaged'] = df_user_activities.apply(lambda row: get_engagement_label(row['inactivity_percent']), axis=1)\n",
    "df_user_activities.head()"
   ]
  },
  {
   "cell_type": "markdown",
   "metadata": {},
   "source": [
    "In the above table, the users are now labelled in the 'engaged' field based on the defined logic"
   ]
  },
  {
   "cell_type": "code",
   "execution_count": 20,
   "metadata": {},
   "outputs": [
    {
     "data": {
      "text/plain": [
       "engaged\n",
       "0    10683\n",
       "1     8747\n",
       "dtype: int64"
      ]
     },
     "execution_count": 20,
     "metadata": {},
     "output_type": "execute_result"
    }
   ],
   "source": [
    "df_user_activities.groupby(by='engaged').size()"
   ]
  },
  {
   "cell_type": "code",
   "execution_count": 21,
   "metadata": {},
   "outputs": [],
   "source": [
    "#df_user_activities_ = df_user_activities.copy()"
   ]
  },
  {
   "cell_type": "code",
   "execution_count": 22,
   "metadata": {},
   "outputs": [],
   "source": [
    "# add birth_year attribute to df_user_activities\n",
    "df_user_activities['birth_year'] = df_users[['birth_year']]"
   ]
  },
  {
   "cell_type": "code",
   "execution_count": null,
   "metadata": {},
   "outputs": [],
   "source": []
  },
  {
   "cell_type": "markdown",
   "metadata": {},
   "source": [
    "#### Univarate analysis"
   ]
  },
  {
   "cell_type": "code",
   "execution_count": 23,
   "metadata": {},
   "outputs": [
    {
     "data": {
      "image/png": "[encoded data removed]",
      "text/plain": [
       "<Figure size 1440x576 with 1 Axes>"
      ]
     },
     "metadata": {},
     "output_type": "display_data"
    }
   ],
   "source": [
    "# visualize birth_year\n",
    "sns.set(style=\"whitegrid\",font_scale=1.3)\n",
    "\n",
    "# Initialize the matplotlib figure\n",
    "f, ax = plt.subplots(figsize=(20, 8))\n",
    "\n",
    "sns.set_color_codes(\"pastel\")\n",
    "sns.countplot(x='birth_year', data=df_users, color=\"royalblue\",alpha=0.8)\n",
    "plt.xticks(rotation = 90);\n",
    "\n",
    "# Add informative axis label\n",
    "ax.set(ylabel=\"# of Users\", title='Plot of the distribution of users by birth_year', xlabel='birth_year')\n",
    "sns.despine(left=True, bottom=True)"
   ]
  },
  {
   "cell_type": "markdown",
   "metadata": {},
   "source": [
    "From the distribution of users by birth year, majority of the users have their birth year between 1982 - 1997. It is also observed that 1992 has the highest number of users. A large population of the user base are millennials, the serivces from gemstones has a good acceptance rate or resonates well with this age group.\n",
    "\n",
    "\n",
    "<i>Millennials, also known as Generation Y, are the demographic cohort following Generation X and preceding Generation Z. Researchers and popular media use the early 1980s as starting birth years and the mid-1990s to early 2000s as ending birth years, with 1981 to 1996 a widely accepted defining range for the generation. Wikipedia<i>"
   ]
  },
  {
   "cell_type": "code",
   "execution_count": 24,
   "metadata": {},
   "outputs": [
    {
     "data": {
      "image/png": "[encoded data removed]",
      "text/plain": [
       "<Figure size 1440x576 with 1 Axes>"
      ]
     },
     "metadata": {},
     "output_type": "display_data"
    }
   ],
   "source": [
    "# Plot the distribution of country\n",
    "plot_attribute(df_users,'country','Plot of the distribution of Users by')"
   ]
  },
  {
   "cell_type": "markdown",
   "metadata": {},
   "source": [
    "Great Britain has the highest number of users, this could be because GemStones started from GB and has a strong presence there. Looking at the plot, gradual advancement are being made into other countries, the numbers will increase with the execution of targeted marketing campaigns. From the user birth year plot above, the bulk of the user base are between 1982 - 1997, they are largely young individuals, there is a possibility that over 80% of them use Facebook. Facebook has almost 2.5 billion monthly active users as of the fourth quarter of 2019. Facebook's AD services could be used to target \"look alike customers\" there by improving growth and user engagement."
   ]
  },
  {
   "cell_type": "code",
   "execution_count": 25,
   "metadata": {},
   "outputs": [
    {
     "data": {
      "image/png": "[encoded data removed]",
      "text/plain": [
       "<Figure size 1440x576 with 1 Axes>"
      ]
     },
     "metadata": {},
     "output_type": "display_data"
    }
   ],
   "source": [
    "# Plot the distribution of plan\n",
    "plot_attribute(df_users,'plan','Plot of the distribution of Users by')"
   ]
  },
  {
   "cell_type": "markdown",
   "metadata": {},
   "source": [
    "The Standard plan is the highest here, I believe this is so because it is free (£0/month) and has a enough features to keep users. We could personalize the value of the premium plan and upsell to the customers on the standard plan, or we could get the profiles of the users in the premium plan and use the Facebook AD services to target \"look alike customers\""
   ]
  },
  {
   "cell_type": "code",
   "execution_count": 26,
   "metadata": {},
   "outputs": [
    {
     "data": {
      "image/png": "[encoded data removed]",
      "text/plain": [
       "<Figure size 1440x576 with 1 Axes>"
      ]
     },
     "metadata": {},
     "output_type": "display_data"
    }
   ],
   "source": [
    "#Plot the distribution of transactions_type\n",
    "plot_attribute(df_transactions,'transactions_type','Plot of the distribution of Transactions by')"
   ]
  },
  {
   "cell_type": "markdown",
   "metadata": {},
   "source": [
    "Card Payment is the highest here, this is likely because users carry out day to day transactions like paying for goods services more than other transaction types."
   ]
  },
  {
   "cell_type": "code",
   "execution_count": 27,
   "metadata": {},
   "outputs": [
    {
     "data": {
      "image/png": "[encoded data removed]",
      "text/plain": [
       "<Figure size 1440x576 with 1 Axes>"
      ]
     },
     "metadata": {},
     "output_type": "display_data"
    }
   ],
   "source": [
    "#Plot the distribution transactions_currency\n",
    "plot_attribute(df_transactions,'transactions_currency','Plot of the distribution of Transactions by')"
   ]
  },
  {
   "cell_type": "markdown",
   "metadata": {},
   "source": [
    "The top 2 currencies in use here are the EUR and GBP."
   ]
  },
  {
   "cell_type": "code",
   "execution_count": 28,
   "metadata": {},
   "outputs": [],
   "source": [
    "# Todo: Plot the distribution merchant"
   ]
  },
  {
   "cell_type": "markdown",
   "metadata": {},
   "source": [
    "#### Bivarate analysis"
   ]
  },
  {
   "cell_type": "code",
   "execution_count": 29,
   "metadata": {},
   "outputs": [
    {
     "data": {
      "image/png": "[encoded data removed]",
      "text/plain": [
       "<Figure size 1440x576 with 1 Axes>"
      ]
     },
     "metadata": {},
     "output_type": "display_data"
    }
   ],
   "source": [
    "# visualize birth_year by engagement\n",
    "sns.set(style=\"whitegrid\",font_scale=1.3)\n",
    "\n",
    "# Initialize the matplotlib figure\n",
    "f, ax = plt.subplots(figsize=(20, 8))\n",
    "\n",
    "sns.set_color_codes(\"pastel\")\n",
    "sns.countplot(x='birth_year', data=df_user_activities, color=\"royalblue\",hue='engaged')\n",
    "plt.xticks(rotation = 90);\n",
    "\n",
    "# Add informative axis label\n",
    "ax.set(ylabel=\"# of Users\", title='Plot of the distribution of Users by birth_year', xlabel='birth_year')\n",
    "sns.despine(left=True, bottom=True)"
   ]
  },
  {
   "cell_type": "markdown",
   "metadata": {},
   "source": [
    "From the distribution of users by birth year, the inactivity observed spans across every age group represented."
   ]
  },
  {
   "cell_type": "code",
   "execution_count": null,
   "metadata": {},
   "outputs": [],
   "source": []
  },
  {
   "cell_type": "code",
   "execution_count": 30,
   "metadata": {},
   "outputs": [],
   "source": [
    "# set the 'engaged' value for each transaction of each user, this is needed for visualization\n",
    "df_transactions= df_transactions.merge(df_user_activities[['user_id','engaged']],how='inner',on='user_id')"
   ]
  },
  {
   "cell_type": "code",
   "execution_count": 31,
   "metadata": {},
   "outputs": [
    {
     "data": {
      "image/png": "[encoded data removed]",
      "text/plain": [
       "<Figure size 1440x576 with 1 Axes>"
      ]
     },
     "metadata": {},
     "output_type": "display_data"
    }
   ],
   "source": [
    "# visualize transactions_type by engagement\n",
    "plot_attribute(df_transactions,'transactions_type','Plot of the distribution of User engagement by','engaged')"
   ]
  },
  {
   "cell_type": "markdown",
   "metadata": {},
   "source": [
    "The top payment type 'Card_Payment' as about over 70% of the transactions done by users that are engaged"
   ]
  },
  {
   "cell_type": "code",
   "execution_count": 32,
   "metadata": {},
   "outputs": [
    {
     "data": {
      "image/png": "[encoded data removed]",
      "text/plain": [
       "<Figure size 1440x576 with 1 Axes>"
      ]
     },
     "metadata": {},
     "output_type": "display_data"
    }
   ],
   "source": [
    "# visualize transactions_currency by engagement\n",
    "plot_attribute(df_transactions,'transactions_currency','Plot of the distribution of User engagement by','engaged')"
   ]
  },
  {
   "cell_type": "markdown",
   "metadata": {},
   "source": [
    "The 'EUR' and 'GBP' currencies are the top currencies and a large percentage of the transactions done in these currencies were done by engaged users"
   ]
  },
  {
   "cell_type": "code",
   "execution_count": 33,
   "metadata": {},
   "outputs": [],
   "source": [
    "# Todo: df_transaction.groupby('transactions_currency').agg({'amount': ['sum']}).reset_index()"
   ]
  },
  {
   "cell_type": "code",
   "execution_count": null,
   "metadata": {},
   "outputs": [],
   "source": []
  },
  {
   "cell_type": "markdown",
   "metadata": {},
   "source": [
    "#### Class Imbalance\n",
    "Class imbalance is a major challenge that can affect the result of model training and inference."
   ]
  },
  {
   "cell_type": "code",
   "execution_count": 34,
   "metadata": {},
   "outputs": [
    {
     "data": {
      "text/plain": [
       "0    0.54982\n",
       "1    0.45018\n",
       "Name: engaged, dtype: float64"
      ]
     },
     "execution_count": 34,
     "metadata": {},
     "output_type": "execute_result"
    }
   ],
   "source": [
    "# A check for class imbalance is done\n",
    "df_user_activities.engaged.value_counts(1)"
   ]
  },
  {
   "cell_type": "markdown",
   "metadata": {},
   "source": [
    "The user unenaged rate is 54%\n",
    "This is a void of oppurtunity that can be filled, further analysis can be done to know what ways could be experimented  on to know the trigger to pull to make users become more engaged, finding this out and excuting a plan will have a direct impact to the revenue and growth of the buisness"
   ]
  },
  {
   "cell_type": "code",
   "execution_count": null,
   "metadata": {},
   "outputs": [],
   "source": []
  },
  {
   "cell_type": "markdown",
   "metadata": {},
   "source": [
    "#### Missing Value Treatment"
   ]
  },
  {
   "cell_type": "markdown",
   "metadata": {},
   "source": [
    "The field merchant_country will be treated with 'Others' where the values are missing"
   ]
  },
  {
   "cell_type": "code",
   "execution_count": 35,
   "metadata": {},
   "outputs": [],
   "source": [
    "df_transactions.merchant_country.fillna('Others',inplace=True)"
   ]
  },
  {
   "cell_type": "markdown",
   "metadata": {},
   "source": [
    "#### Feature Engineering"
   ]
  },
  {
   "cell_type": "code",
   "execution_count": 36,
   "metadata": {},
   "outputs": [],
   "source": [
    "# Aggregate the amount_usd attribute\n",
    "df_transactions_aggregate = df_transactions[['user_id','amount']].groupby('user_id').agg(['count', 'mean', 'max', 'min', 'sum']).reset_index()"
   ]
  },
  {
   "cell_type": "code",
   "execution_count": 37,
   "metadata": {},
   "outputs": [],
   "source": [
    "# create new column names for created features\n",
    "columns = ['user_id']\n",
    "# Iterate through the variables names\n",
    "for var in df_transactions_aggregate.columns.levels[0]:\n",
    "    # Skip the grouping variable\n",
    "    if var != 'user_id':\n",
    "        # Iterate through the stat names\n",
    "        for stat in df_transactions_aggregate.columns.levels[1][:-1]:\n",
    "            # Make a new column name for the variable and stat\n",
    "            columns.append('%s_%s' % (var, stat))\n",
    "\n",
    "df_transactions_aggregate.columns = columns"
   ]
  },
  {
   "cell_type": "code",
   "execution_count": null,
   "metadata": {},
   "outputs": [],
   "source": []
  },
  {
   "cell_type": "code",
   "execution_count": 38,
   "metadata": {},
   "outputs": [
    {
     "data": {
      "text/html": [
       "<div>\n",
       "<style scoped>\n",
       "    .dataframe tbody tr th:only-of-type {\n",
       "        vertical-align: middle;\n",
       "    }\n",
       "\n",
       "    .dataframe tbody tr th {\n",
       "        vertical-align: top;\n",
       "    }\n",
       "\n",
       "    .dataframe thead th {\n",
       "        text-align: right;\n",
       "    }\n",
       "</style>\n",
       "<table border=\"1\" class=\"dataframe\">\n",
       "  <thead>\n",
       "    <tr style=\"text-align: right;\">\n",
       "      <th></th>\n",
       "      <th>user_id</th>\n",
       "      <th>transactions_type</th>\n",
       "    </tr>\n",
       "  </thead>\n",
       "  <tbody>\n",
       "    <tr>\n",
       "      <th>0</th>\n",
       "      <td>user_0</td>\n",
       "      <td>7</td>\n",
       "    </tr>\n",
       "    <tr>\n",
       "      <th>1</th>\n",
       "      <td>user_1</td>\n",
       "      <td>5</td>\n",
       "    </tr>\n",
       "    <tr>\n",
       "      <th>2</th>\n",
       "      <td>user_10</td>\n",
       "      <td>7</td>\n",
       "    </tr>\n",
       "    <tr>\n",
       "      <th>3</th>\n",
       "      <td>user_100</td>\n",
       "      <td>5</td>\n",
       "    </tr>\n",
       "    <tr>\n",
       "      <th>4</th>\n",
       "      <td>user_1000</td>\n",
       "      <td>4</td>\n",
       "    </tr>\n",
       "  </tbody>\n",
       "</table>\n",
       "</div>"
      ],
      "text/plain": [
       "     user_id  transactions_type\n",
       "0     user_0                  7\n",
       "1     user_1                  5\n",
       "2    user_10                  7\n",
       "3   user_100                  5\n",
       "4  user_1000                  4"
      ]
     },
     "execution_count": 38,
     "metadata": {},
     "output_type": "execute_result"
    }
   ],
   "source": [
    "# Get the number of unique transaction types the users engaged with\n",
    "df_user_transation_types = (df_transactions[['user_id','transactions_type']].groupby('user_id')['transactions_type'].nunique()).reset_index()\n",
    "df_user_transation_types.head()"
   ]
  },
  {
   "cell_type": "code",
   "execution_count": 39,
   "metadata": {},
   "outputs": [],
   "source": [
    "# Merge aggregated data with the df_user_activities data\n",
    "df_user_activities = df_user_activities.merge(df_user_transation_types, how='left', on='user_id')"
   ]
  },
  {
   "cell_type": "code",
   "execution_count": 40,
   "metadata": {},
   "outputs": [
    {
     "data": {
      "text/html": [
       "<div>\n",
       "<style scoped>\n",
       "    .dataframe tbody tr th:only-of-type {\n",
       "        vertical-align: middle;\n",
       "    }\n",
       "\n",
       "    .dataframe tbody tr th {\n",
       "        vertical-align: top;\n",
       "    }\n",
       "\n",
       "    .dataframe thead th {\n",
       "        text-align: right;\n",
       "    }\n",
       "</style>\n",
       "<table border=\"1\" class=\"dataframe\">\n",
       "  <thead>\n",
       "    <tr style=\"text-align: right;\">\n",
       "      <th></th>\n",
       "      <th>user_id</th>\n",
       "      <th>transactions_currency</th>\n",
       "    </tr>\n",
       "  </thead>\n",
       "  <tbody>\n",
       "    <tr>\n",
       "      <th>0</th>\n",
       "      <td>user_0</td>\n",
       "      <td>5</td>\n",
       "    </tr>\n",
       "    <tr>\n",
       "      <th>1</th>\n",
       "      <td>user_1</td>\n",
       "      <td>1</td>\n",
       "    </tr>\n",
       "    <tr>\n",
       "      <th>2</th>\n",
       "      <td>user_10</td>\n",
       "      <td>1</td>\n",
       "    </tr>\n",
       "    <tr>\n",
       "      <th>3</th>\n",
       "      <td>user_100</td>\n",
       "      <td>2</td>\n",
       "    </tr>\n",
       "    <tr>\n",
       "      <th>4</th>\n",
       "      <td>user_1000</td>\n",
       "      <td>3</td>\n",
       "    </tr>\n",
       "  </tbody>\n",
       "</table>\n",
       "</div>"
      ],
      "text/plain": [
       "     user_id  transactions_currency\n",
       "0     user_0                      5\n",
       "1     user_1                      1\n",
       "2    user_10                      1\n",
       "3   user_100                      2\n",
       "4  user_1000                      3"
      ]
     },
     "execution_count": 40,
     "metadata": {},
     "output_type": "execute_result"
    }
   ],
   "source": [
    "# Get the number of unique transaction currencies the user engaged with\n",
    "df_user_transactions_currency = (df_transactions[['user_id','transactions_currency']].groupby('user_id')['transactions_currency'].nunique()).reset_index()\n",
    "df_user_transactions_currency.head()"
   ]
  },
  {
   "cell_type": "code",
   "execution_count": 41,
   "metadata": {},
   "outputs": [],
   "source": [
    "# Merge aggregated data with the df_user_activities data\n",
    "df_user_activities = df_user_activities.merge(df_user_transactions_currency, how='left', on='user_id')"
   ]
  },
  {
   "cell_type": "code",
   "execution_count": 42,
   "metadata": {},
   "outputs": [],
   "source": [
    "# merge aggregated data with the df_user_activities data\n",
    "df_user_activities = df_user_activities.merge(df_transactions_aggregate, how='left', on='user_id')"
   ]
  },
  {
   "cell_type": "code",
   "execution_count": 43,
   "metadata": {},
   "outputs": [],
   "source": [
    "# Extract features from the 'created_date' attribute\n",
    "df_user_activities['created_date_day'] = df_users['created_date'].dt.day\n",
    "df_user_activities['created_date_week'] = df_users['created_date'].dt.week\n",
    "df_user_activities['created_date_month'] = df_users['created_date'].dt.month\n",
    "df_user_activities['created_date_year'] = df_users['created_date'].dt.year"
   ]
  },
  {
   "cell_type": "code",
   "execution_count": 44,
   "metadata": {},
   "outputs": [
    {
     "data": {
      "text/html": [
       "<div>\n",
       "<style scoped>\n",
       "    .dataframe tbody tr th:only-of-type {\n",
       "        vertical-align: middle;\n",
       "    }\n",
       "\n",
       "    .dataframe tbody tr th {\n",
       "        vertical-align: top;\n",
       "    }\n",
       "\n",
       "    .dataframe thead th {\n",
       "        text-align: right;\n",
       "    }\n",
       "</style>\n",
       "<table border=\"1\" class=\"dataframe\">\n",
       "  <thead>\n",
       "    <tr style=\"text-align: right;\">\n",
       "      <th></th>\n",
       "      <th>plan_METAL</th>\n",
       "      <th>plan_METAL_FREE</th>\n",
       "      <th>plan_PREMIUM</th>\n",
       "      <th>plan_PREMIUM_FREE</th>\n",
       "      <th>plan_PREMIUM_OFFER</th>\n",
       "      <th>plan_STANDARD</th>\n",
       "    </tr>\n",
       "  </thead>\n",
       "  <tbody>\n",
       "    <tr>\n",
       "      <th>0</th>\n",
       "      <td>0</td>\n",
       "      <td>0</td>\n",
       "      <td>0</td>\n",
       "      <td>0</td>\n",
       "      <td>0</td>\n",
       "      <td>1</td>\n",
       "    </tr>\n",
       "    <tr>\n",
       "      <th>1</th>\n",
       "      <td>0</td>\n",
       "      <td>0</td>\n",
       "      <td>0</td>\n",
       "      <td>0</td>\n",
       "      <td>0</td>\n",
       "      <td>1</td>\n",
       "    </tr>\n",
       "    <tr>\n",
       "      <th>2</th>\n",
       "      <td>0</td>\n",
       "      <td>0</td>\n",
       "      <td>0</td>\n",
       "      <td>0</td>\n",
       "      <td>0</td>\n",
       "      <td>1</td>\n",
       "    </tr>\n",
       "    <tr>\n",
       "      <th>3</th>\n",
       "      <td>0</td>\n",
       "      <td>0</td>\n",
       "      <td>0</td>\n",
       "      <td>0</td>\n",
       "      <td>0</td>\n",
       "      <td>1</td>\n",
       "    </tr>\n",
       "    <tr>\n",
       "      <th>4</th>\n",
       "      <td>0</td>\n",
       "      <td>0</td>\n",
       "      <td>0</td>\n",
       "      <td>0</td>\n",
       "      <td>0</td>\n",
       "      <td>1</td>\n",
       "    </tr>\n",
       "  </tbody>\n",
       "</table>\n",
       "</div>"
      ],
      "text/plain": [
       "   plan_METAL  plan_METAL_FREE  plan_PREMIUM  plan_PREMIUM_FREE  \\\n",
       "0           0                0             0                  0   \n",
       "1           0                0             0                  0   \n",
       "2           0                0             0                  0   \n",
       "3           0                0             0                  0   \n",
       "4           0                0             0                  0   \n",
       "\n",
       "   plan_PREMIUM_OFFER  plan_STANDARD  \n",
       "0                   0              1  \n",
       "1                   0              1  \n",
       "2                   0              1  \n",
       "3                   0              1  \n",
       "4                   0              1  "
      ]
     },
     "execution_count": 44,
     "metadata": {},
     "output_type": "execute_result"
    }
   ],
   "source": [
    "#Dummy encoding:\n",
    "df_user_plan = pd.get_dummies(df_users[['plan']])\n",
    "df_user_plan.head()"
   ]
  },
  {
   "cell_type": "code",
   "execution_count": 45,
   "metadata": {},
   "outputs": [],
   "source": [
    "# merger dummy variables created with df_user_activities\n",
    "df_user_activities = pd.concat([df_user_activities, df_user_plan], axis=1)"
   ]
  },
  {
   "cell_type": "code",
   "execution_count": 46,
   "metadata": {},
   "outputs": [],
   "source": [
    "# fill up NaN created during merge actions\n",
    "df_user_activities.fillna(0, inplace=True)"
   ]
  },
  {
   "cell_type": "code",
   "execution_count": 47,
   "metadata": {},
   "outputs": [
    {
     "data": {
      "text/plain": [
       "user_id                  0\n",
       "active_count             0\n",
       "inactive_count           0\n",
       "inactivity_percent       0\n",
       "engaged                  0\n",
       "birth_year               0\n",
       "transactions_type        0\n",
       "transactions_currency    0\n",
       "amount_count             0\n",
       "amount_mean              0\n",
       "amount_max               0\n",
       "amount_min               0\n",
       "amount_sum               0\n",
       "created_date_day         0\n",
       "created_date_week        0\n",
       "created_date_month       0\n",
       "created_date_year        0\n",
       "plan_METAL               0\n",
       "plan_METAL_FREE          0\n",
       "plan_PREMIUM             0\n",
       "plan_PREMIUM_FREE        0\n",
       "plan_PREMIUM_OFFER       0\n",
       "plan_STANDARD            0\n",
       "dtype: int64"
      ]
     },
     "execution_count": 47,
     "metadata": {},
     "output_type": "execute_result"
    }
   ],
   "source": [
    "df_user_activities.isna().sum()"
   ]
  },
  {
   "cell_type": "markdown",
   "metadata": {},
   "source": [
    "#### Correlation Matrix"
   ]
  },
  {
   "cell_type": "code",
   "execution_count": 48,
   "metadata": {
    "scrolled": false
   },
   "outputs": [
    {
     "data": {
      "text/html": [
       "<div>\n",
       "<style scoped>\n",
       "    .dataframe tbody tr th:only-of-type {\n",
       "        vertical-align: middle;\n",
       "    }\n",
       "\n",
       "    .dataframe tbody tr th {\n",
       "        vertical-align: top;\n",
       "    }\n",
       "\n",
       "    .dataframe thead th {\n",
       "        text-align: right;\n",
       "    }\n",
       "</style>\n",
       "<table border=\"1\" class=\"dataframe\">\n",
       "  <thead>\n",
       "    <tr style=\"text-align: right;\">\n",
       "      <th></th>\n",
       "      <th>active_count</th>\n",
       "      <th>inactive_count</th>\n",
       "      <th>inactivity_percent</th>\n",
       "      <th>engaged</th>\n",
       "      <th>birth_year</th>\n",
       "      <th>transactions_type</th>\n",
       "      <th>transactions_currency</th>\n",
       "      <th>amount_count</th>\n",
       "      <th>amount_mean</th>\n",
       "      <th>amount_max</th>\n",
       "      <th>...</th>\n",
       "      <th>created_date_day</th>\n",
       "      <th>created_date_week</th>\n",
       "      <th>created_date_month</th>\n",
       "      <th>created_date_year</th>\n",
       "      <th>plan_METAL</th>\n",
       "      <th>plan_METAL_FREE</th>\n",
       "      <th>plan_PREMIUM</th>\n",
       "      <th>plan_PREMIUM_FREE</th>\n",
       "      <th>plan_PREMIUM_OFFER</th>\n",
       "      <th>plan_STANDARD</th>\n",
       "    </tr>\n",
       "  </thead>\n",
       "  <tbody>\n",
       "    <tr>\n",
       "      <th>active_count</th>\n",
       "      <td>1.000000</td>\n",
       "      <td>-1.000000</td>\n",
       "      <td>-1.000000</td>\n",
       "      <td>0.831551</td>\n",
       "      <td>0.040829</td>\n",
       "      <td>0.680135</td>\n",
       "      <td>0.425177</td>\n",
       "      <td>0.540966</td>\n",
       "      <td>-0.000665</td>\n",
       "      <td>0.021903</td>\n",
       "      <td>...</td>\n",
       "      <td>-0.008786</td>\n",
       "      <td>-0.416095</td>\n",
       "      <td>-0.425845</td>\n",
       "      <td>-0.040182</td>\n",
       "      <td>0.121152</td>\n",
       "      <td>0.041593</td>\n",
       "      <td>0.178584</td>\n",
       "      <td>0.021251</td>\n",
       "      <td>0.015299</td>\n",
       "      <td>-0.224657</td>\n",
       "    </tr>\n",
       "    <tr>\n",
       "      <th>inactive_count</th>\n",
       "      <td>-1.000000</td>\n",
       "      <td>1.000000</td>\n",
       "      <td>1.000000</td>\n",
       "      <td>-0.831551</td>\n",
       "      <td>-0.040829</td>\n",
       "      <td>-0.680135</td>\n",
       "      <td>-0.425177</td>\n",
       "      <td>-0.540966</td>\n",
       "      <td>0.000665</td>\n",
       "      <td>-0.021903</td>\n",
       "      <td>...</td>\n",
       "      <td>0.008786</td>\n",
       "      <td>0.416095</td>\n",
       "      <td>0.425845</td>\n",
       "      <td>0.040182</td>\n",
       "      <td>-0.121152</td>\n",
       "      <td>-0.041593</td>\n",
       "      <td>-0.178584</td>\n",
       "      <td>-0.021251</td>\n",
       "      <td>-0.015299</td>\n",
       "      <td>0.224657</td>\n",
       "    </tr>\n",
       "    <tr>\n",
       "      <th>inactivity_percent</th>\n",
       "      <td>-1.000000</td>\n",
       "      <td>1.000000</td>\n",
       "      <td>1.000000</td>\n",
       "      <td>-0.831551</td>\n",
       "      <td>-0.040829</td>\n",
       "      <td>-0.680135</td>\n",
       "      <td>-0.425177</td>\n",
       "      <td>-0.540966</td>\n",
       "      <td>0.000665</td>\n",
       "      <td>-0.021903</td>\n",
       "      <td>...</td>\n",
       "      <td>0.008786</td>\n",
       "      <td>0.416095</td>\n",
       "      <td>0.425845</td>\n",
       "      <td>0.040182</td>\n",
       "      <td>-0.121152</td>\n",
       "      <td>-0.041593</td>\n",
       "      <td>-0.178584</td>\n",
       "      <td>-0.021251</td>\n",
       "      <td>-0.015299</td>\n",
       "      <td>0.224657</td>\n",
       "    </tr>\n",
       "    <tr>\n",
       "      <th>engaged</th>\n",
       "      <td>0.831551</td>\n",
       "      <td>-0.831551</td>\n",
       "      <td>-0.831551</td>\n",
       "      <td>1.000000</td>\n",
       "      <td>0.049468</td>\n",
       "      <td>0.557831</td>\n",
       "      <td>0.332960</td>\n",
       "      <td>0.449703</td>\n",
       "      <td>-0.002736</td>\n",
       "      <td>0.019048</td>\n",
       "      <td>...</td>\n",
       "      <td>0.001672</td>\n",
       "      <td>-0.324140</td>\n",
       "      <td>-0.334288</td>\n",
       "      <td>-0.051196</td>\n",
       "      <td>0.101725</td>\n",
       "      <td>0.036408</td>\n",
       "      <td>0.155788</td>\n",
       "      <td>0.008648</td>\n",
       "      <td>0.025238</td>\n",
       "      <td>-0.194674</td>\n",
       "    </tr>\n",
       "    <tr>\n",
       "      <th>birth_year</th>\n",
       "      <td>0.040829</td>\n",
       "      <td>-0.040829</td>\n",
       "      <td>-0.040829</td>\n",
       "      <td>0.049468</td>\n",
       "      <td>1.000000</td>\n",
       "      <td>0.099016</td>\n",
       "      <td>0.070968</td>\n",
       "      <td>0.105955</td>\n",
       "      <td>0.004971</td>\n",
       "      <td>0.013094</td>\n",
       "      <td>...</td>\n",
       "      <td>-0.006119</td>\n",
       "      <td>0.012047</td>\n",
       "      <td>0.010340</td>\n",
       "      <td>0.003033</td>\n",
       "      <td>-0.019648</td>\n",
       "      <td>0.017238</td>\n",
       "      <td>-0.039819</td>\n",
       "      <td>-0.000819</td>\n",
       "      <td>-0.009246</td>\n",
       "      <td>0.041776</td>\n",
       "    </tr>\n",
       "    <tr>\n",
       "      <th>transactions_type</th>\n",
       "      <td>0.680135</td>\n",
       "      <td>-0.680135</td>\n",
       "      <td>-0.680135</td>\n",
       "      <td>0.557831</td>\n",
       "      <td>0.099016</td>\n",
       "      <td>1.000000</td>\n",
       "      <td>0.558740</td>\n",
       "      <td>0.536458</td>\n",
       "      <td>-0.001995</td>\n",
       "      <td>0.018016</td>\n",
       "      <td>...</td>\n",
       "      <td>-0.009251</td>\n",
       "      <td>-0.197104</td>\n",
       "      <td>-0.204811</td>\n",
       "      <td>-0.020409</td>\n",
       "      <td>0.272465</td>\n",
       "      <td>0.059221</td>\n",
       "      <td>0.157651</td>\n",
       "      <td>0.009219</td>\n",
       "      <td>0.030939</td>\n",
       "      <td>-0.304724</td>\n",
       "    </tr>\n",
       "    <tr>\n",
       "      <th>transactions_currency</th>\n",
       "      <td>0.425177</td>\n",
       "      <td>-0.425177</td>\n",
       "      <td>-0.425177</td>\n",
       "      <td>0.332960</td>\n",
       "      <td>0.070968</td>\n",
       "      <td>0.558740</td>\n",
       "      <td>1.000000</td>\n",
       "      <td>0.337480</td>\n",
       "      <td>-0.002459</td>\n",
       "      <td>0.010146</td>\n",
       "      <td>...</td>\n",
       "      <td>-0.012244</td>\n",
       "      <td>-0.181242</td>\n",
       "      <td>-0.185298</td>\n",
       "      <td>-0.020959</td>\n",
       "      <td>0.121822</td>\n",
       "      <td>0.052526</td>\n",
       "      <td>0.129851</td>\n",
       "      <td>0.023262</td>\n",
       "      <td>0.021722</td>\n",
       "      <td>-0.189482</td>\n",
       "    </tr>\n",
       "    <tr>\n",
       "      <th>amount_count</th>\n",
       "      <td>0.540966</td>\n",
       "      <td>-0.540966</td>\n",
       "      <td>-0.540966</td>\n",
       "      <td>0.449703</td>\n",
       "      <td>0.105955</td>\n",
       "      <td>0.536458</td>\n",
       "      <td>0.337480</td>\n",
       "      <td>1.000000</td>\n",
       "      <td>-0.003373</td>\n",
       "      <td>0.013998</td>\n",
       "      <td>...</td>\n",
       "      <td>0.001866</td>\n",
       "      <td>-0.157020</td>\n",
       "      <td>-0.162286</td>\n",
       "      <td>-0.018432</td>\n",
       "      <td>0.335887</td>\n",
       "      <td>0.059105</td>\n",
       "      <td>0.149703</td>\n",
       "      <td>0.032135</td>\n",
       "      <td>0.036803</td>\n",
       "      <td>-0.339123</td>\n",
       "    </tr>\n",
       "    <tr>\n",
       "      <th>amount_mean</th>\n",
       "      <td>-0.000665</td>\n",
       "      <td>0.000665</td>\n",
       "      <td>0.000665</td>\n",
       "      <td>-0.002736</td>\n",
       "      <td>0.004971</td>\n",
       "      <td>-0.001995</td>\n",
       "      <td>-0.002459</td>\n",
       "      <td>-0.003373</td>\n",
       "      <td>1.000000</td>\n",
       "      <td>0.322080</td>\n",
       "      <td>...</td>\n",
       "      <td>0.007643</td>\n",
       "      <td>-0.000015</td>\n",
       "      <td>-0.000641</td>\n",
       "      <td>-0.000593</td>\n",
       "      <td>-0.001703</td>\n",
       "      <td>-0.000458</td>\n",
       "      <td>0.003926</td>\n",
       "      <td>-0.000150</td>\n",
       "      <td>-0.000375</td>\n",
       "      <td>-0.001920</td>\n",
       "    </tr>\n",
       "    <tr>\n",
       "      <th>amount_max</th>\n",
       "      <td>0.021903</td>\n",
       "      <td>-0.021903</td>\n",
       "      <td>-0.021903</td>\n",
       "      <td>0.019048</td>\n",
       "      <td>0.013094</td>\n",
       "      <td>0.018016</td>\n",
       "      <td>0.010146</td>\n",
       "      <td>0.013998</td>\n",
       "      <td>0.322080</td>\n",
       "      <td>1.000000</td>\n",
       "      <td>...</td>\n",
       "      <td>-0.004343</td>\n",
       "      <td>-0.012222</td>\n",
       "      <td>-0.012101</td>\n",
       "      <td>-0.001121</td>\n",
       "      <td>-0.002699</td>\n",
       "      <td>-0.000864</td>\n",
       "      <td>0.012494</td>\n",
       "      <td>-0.000284</td>\n",
       "      <td>-0.000705</td>\n",
       "      <td>-0.007943</td>\n",
       "    </tr>\n",
       "    <tr>\n",
       "      <th>amount_min</th>\n",
       "      <td>-0.085780</td>\n",
       "      <td>0.085780</td>\n",
       "      <td>0.085780</td>\n",
       "      <td>-0.067798</td>\n",
       "      <td>-0.004477</td>\n",
       "      <td>-0.094222</td>\n",
       "      <td>-0.033177</td>\n",
       "      <td>-0.048267</td>\n",
       "      <td>-0.000404</td>\n",
       "      <td>-0.001751</td>\n",
       "      <td>...</td>\n",
       "      <td>-0.005561</td>\n",
       "      <td>-0.000674</td>\n",
       "      <td>-0.000027</td>\n",
       "      <td>-0.002989</td>\n",
       "      <td>-0.014344</td>\n",
       "      <td>-0.003994</td>\n",
       "      <td>-0.011388</td>\n",
       "      <td>-0.001345</td>\n",
       "      <td>-0.001608</td>\n",
       "      <td>0.018666</td>\n",
       "    </tr>\n",
       "    <tr>\n",
       "      <th>amount_sum</th>\n",
       "      <td>0.021742</td>\n",
       "      <td>-0.021742</td>\n",
       "      <td>-0.021742</td>\n",
       "      <td>0.018804</td>\n",
       "      <td>0.012983</td>\n",
       "      <td>0.017687</td>\n",
       "      <td>0.009335</td>\n",
       "      <td>0.014164</td>\n",
       "      <td>0.338838</td>\n",
       "      <td>0.998438</td>\n",
       "      <td>...</td>\n",
       "      <td>-0.003913</td>\n",
       "      <td>-0.012308</td>\n",
       "      <td>-0.012215</td>\n",
       "      <td>-0.001125</td>\n",
       "      <td>-0.002713</td>\n",
       "      <td>-0.000867</td>\n",
       "      <td>0.013303</td>\n",
       "      <td>-0.000285</td>\n",
       "      <td>-0.000708</td>\n",
       "      <td>-0.008572</td>\n",
       "    </tr>\n",
       "    <tr>\n",
       "      <th>created_date_day</th>\n",
       "      <td>-0.008786</td>\n",
       "      <td>0.008786</td>\n",
       "      <td>0.008786</td>\n",
       "      <td>0.001672</td>\n",
       "      <td>-0.006119</td>\n",
       "      <td>-0.009251</td>\n",
       "      <td>-0.012244</td>\n",
       "      <td>0.001866</td>\n",
       "      <td>0.007643</td>\n",
       "      <td>-0.004343</td>\n",
       "      <td>...</td>\n",
       "      <td>1.000000</td>\n",
       "      <td>0.116136</td>\n",
       "      <td>0.046070</td>\n",
       "      <td>-0.090300</td>\n",
       "      <td>-0.000615</td>\n",
       "      <td>0.007939</td>\n",
       "      <td>-0.002378</td>\n",
       "      <td>0.000332</td>\n",
       "      <td>0.013936</td>\n",
       "      <td>-0.001000</td>\n",
       "    </tr>\n",
       "    <tr>\n",
       "      <th>created_date_week</th>\n",
       "      <td>-0.416095</td>\n",
       "      <td>0.416095</td>\n",
       "      <td>0.416095</td>\n",
       "      <td>-0.324140</td>\n",
       "      <td>0.012047</td>\n",
       "      <td>-0.197104</td>\n",
       "      <td>-0.181242</td>\n",
       "      <td>-0.157020</td>\n",
       "      <td>-0.000015</td>\n",
       "      <td>-0.012222</td>\n",
       "      <td>...</td>\n",
       "      <td>0.116136</td>\n",
       "      <td>1.000000</td>\n",
       "      <td>0.983367</td>\n",
       "      <td>-0.106694</td>\n",
       "      <td>0.004725</td>\n",
       "      <td>-0.009419</td>\n",
       "      <td>-0.031054</td>\n",
       "      <td>-0.007929</td>\n",
       "      <td>0.021321</td>\n",
       "      <td>0.020672</td>\n",
       "    </tr>\n",
       "    <tr>\n",
       "      <th>created_date_month</th>\n",
       "      <td>-0.425845</td>\n",
       "      <td>0.425845</td>\n",
       "      <td>0.425845</td>\n",
       "      <td>-0.334288</td>\n",
       "      <td>0.010340</td>\n",
       "      <td>-0.204811</td>\n",
       "      <td>-0.185298</td>\n",
       "      <td>-0.162286</td>\n",
       "      <td>-0.000641</td>\n",
       "      <td>-0.012101</td>\n",
       "      <td>...</td>\n",
       "      <td>0.046070</td>\n",
       "      <td>0.983367</td>\n",
       "      <td>1.000000</td>\n",
       "      <td>-0.102399</td>\n",
       "      <td>0.003494</td>\n",
       "      <td>-0.010660</td>\n",
       "      <td>-0.031134</td>\n",
       "      <td>-0.008126</td>\n",
       "      <td>0.019897</td>\n",
       "      <td>0.021897</td>\n",
       "    </tr>\n",
       "    <tr>\n",
       "      <th>created_date_year</th>\n",
       "      <td>-0.040182</td>\n",
       "      <td>0.040182</td>\n",
       "      <td>0.040182</td>\n",
       "      <td>-0.051196</td>\n",
       "      <td>0.003033</td>\n",
       "      <td>-0.020409</td>\n",
       "      <td>-0.020959</td>\n",
       "      <td>-0.018432</td>\n",
       "      <td>-0.000593</td>\n",
       "      <td>-0.001121</td>\n",
       "      <td>...</td>\n",
       "      <td>-0.090300</td>\n",
       "      <td>-0.106694</td>\n",
       "      <td>-0.102399</td>\n",
       "      <td>1.000000</td>\n",
       "      <td>0.002188</td>\n",
       "      <td>-0.002471</td>\n",
       "      <td>-0.012213</td>\n",
       "      <td>-0.000812</td>\n",
       "      <td>-0.002031</td>\n",
       "      <td>0.009024</td>\n",
       "    </tr>\n",
       "    <tr>\n",
       "      <th>plan_METAL</th>\n",
       "      <td>0.121152</td>\n",
       "      <td>-0.121152</td>\n",
       "      <td>-0.121152</td>\n",
       "      <td>0.101725</td>\n",
       "      <td>-0.019648</td>\n",
       "      <td>0.272465</td>\n",
       "      <td>0.121822</td>\n",
       "      <td>0.335887</td>\n",
       "      <td>-0.001703</td>\n",
       "      <td>-0.002699</td>\n",
       "      <td>...</td>\n",
       "      <td>-0.000615</td>\n",
       "      <td>0.004725</td>\n",
       "      <td>0.003494</td>\n",
       "      <td>0.002188</td>\n",
       "      <td>1.000000</td>\n",
       "      <td>-0.007150</td>\n",
       "      <td>-0.035332</td>\n",
       "      <td>-0.002349</td>\n",
       "      <td>-0.005875</td>\n",
       "      <td>-0.578988</td>\n",
       "    </tr>\n",
       "    <tr>\n",
       "      <th>plan_METAL_FREE</th>\n",
       "      <td>0.041593</td>\n",
       "      <td>-0.041593</td>\n",
       "      <td>-0.041593</td>\n",
       "      <td>0.036408</td>\n",
       "      <td>0.017238</td>\n",
       "      <td>0.059221</td>\n",
       "      <td>0.052526</td>\n",
       "      <td>0.059105</td>\n",
       "      <td>-0.000458</td>\n",
       "      <td>-0.000864</td>\n",
       "      <td>...</td>\n",
       "      <td>0.007939</td>\n",
       "      <td>-0.009419</td>\n",
       "      <td>-0.010660</td>\n",
       "      <td>-0.002471</td>\n",
       "      <td>-0.007150</td>\n",
       "      <td>1.000000</td>\n",
       "      <td>-0.009428</td>\n",
       "      <td>-0.000627</td>\n",
       "      <td>-0.001568</td>\n",
       "      <td>-0.154504</td>\n",
       "    </tr>\n",
       "    <tr>\n",
       "      <th>plan_PREMIUM</th>\n",
       "      <td>0.178584</td>\n",
       "      <td>-0.178584</td>\n",
       "      <td>-0.178584</td>\n",
       "      <td>0.155788</td>\n",
       "      <td>-0.039819</td>\n",
       "      <td>0.157651</td>\n",
       "      <td>0.129851</td>\n",
       "      <td>0.149703</td>\n",
       "      <td>0.003926</td>\n",
       "      <td>0.012494</td>\n",
       "      <td>...</td>\n",
       "      <td>-0.002378</td>\n",
       "      <td>-0.031054</td>\n",
       "      <td>-0.031134</td>\n",
       "      <td>-0.012213</td>\n",
       "      <td>-0.035332</td>\n",
       "      <td>-0.009428</td>\n",
       "      <td>1.000000</td>\n",
       "      <td>-0.003097</td>\n",
       "      <td>-0.007748</td>\n",
       "      <td>-0.763521</td>\n",
       "    </tr>\n",
       "    <tr>\n",
       "      <th>plan_PREMIUM_FREE</th>\n",
       "      <td>0.021251</td>\n",
       "      <td>-0.021251</td>\n",
       "      <td>-0.021251</td>\n",
       "      <td>0.008648</td>\n",
       "      <td>-0.000819</td>\n",
       "      <td>0.009219</td>\n",
       "      <td>0.023262</td>\n",
       "      <td>0.032135</td>\n",
       "      <td>-0.000150</td>\n",
       "      <td>-0.000284</td>\n",
       "      <td>...</td>\n",
       "      <td>0.000332</td>\n",
       "      <td>-0.007929</td>\n",
       "      <td>-0.008126</td>\n",
       "      <td>-0.000812</td>\n",
       "      <td>-0.002349</td>\n",
       "      <td>-0.000627</td>\n",
       "      <td>-0.003097</td>\n",
       "      <td>1.000000</td>\n",
       "      <td>-0.000515</td>\n",
       "      <td>-0.050757</td>\n",
       "    </tr>\n",
       "    <tr>\n",
       "      <th>plan_PREMIUM_OFFER</th>\n",
       "      <td>0.015299</td>\n",
       "      <td>-0.015299</td>\n",
       "      <td>-0.015299</td>\n",
       "      <td>0.025238</td>\n",
       "      <td>-0.009246</td>\n",
       "      <td>0.030939</td>\n",
       "      <td>0.021722</td>\n",
       "      <td>0.036803</td>\n",
       "      <td>-0.000375</td>\n",
       "      <td>-0.000705</td>\n",
       "      <td>...</td>\n",
       "      <td>0.013936</td>\n",
       "      <td>0.021321</td>\n",
       "      <td>0.019897</td>\n",
       "      <td>-0.002031</td>\n",
       "      <td>-0.005875</td>\n",
       "      <td>-0.001568</td>\n",
       "      <td>-0.007748</td>\n",
       "      <td>-0.000515</td>\n",
       "      <td>1.000000</td>\n",
       "      <td>-0.126962</td>\n",
       "    </tr>\n",
       "    <tr>\n",
       "      <th>plan_STANDARD</th>\n",
       "      <td>-0.224657</td>\n",
       "      <td>0.224657</td>\n",
       "      <td>0.224657</td>\n",
       "      <td>-0.194674</td>\n",
       "      <td>0.041776</td>\n",
       "      <td>-0.304724</td>\n",
       "      <td>-0.189482</td>\n",
       "      <td>-0.339123</td>\n",
       "      <td>-0.001920</td>\n",
       "      <td>-0.007943</td>\n",
       "      <td>...</td>\n",
       "      <td>-0.001000</td>\n",
       "      <td>0.020672</td>\n",
       "      <td>0.021897</td>\n",
       "      <td>0.009024</td>\n",
       "      <td>-0.578988</td>\n",
       "      <td>-0.154504</td>\n",
       "      <td>-0.763521</td>\n",
       "      <td>-0.050757</td>\n",
       "      <td>-0.126962</td>\n",
       "      <td>1.000000</td>\n",
       "    </tr>\n",
       "  </tbody>\n",
       "</table>\n",
       "<p>22 rows × 22 columns</p>\n",
       "</div>"
      ],
      "text/plain": [
       "                       active_count  inactive_count  inactivity_percent  \\\n",
       "active_count               1.000000       -1.000000           -1.000000   \n",
       "inactive_count            -1.000000        1.000000            1.000000   \n",
       "inactivity_percent        -1.000000        1.000000            1.000000   \n",
       "engaged                    0.831551       -0.831551           -0.831551   \n",
       "birth_year                 0.040829       -0.040829           -0.040829   \n",
       "transactions_type          0.680135       -0.680135           -0.680135   \n",
       "transactions_currency      0.425177       -0.425177           -0.425177   \n",
       "amount_count               0.540966       -0.540966           -0.540966   \n",
       "amount_mean               -0.000665        0.000665            0.000665   \n",
       "amount_max                 0.021903       -0.021903           -0.021903   \n",
       "amount_min                -0.085780        0.085780            0.085780   \n",
       "amount_sum                 0.021742       -0.021742           -0.021742   \n",
       "created_date_day          -0.008786        0.008786            0.008786   \n",
       "created_date_week         -0.416095        0.416095            0.416095   \n",
       "created_date_month        -0.425845        0.425845            0.425845   \n",
       "created_date_year         -0.040182        0.040182            0.040182   \n",
       "plan_METAL                 0.121152       -0.121152           -0.121152   \n",
       "plan_METAL_FREE            0.041593       -0.041593           -0.041593   \n",
       "plan_PREMIUM               0.178584       -0.178584           -0.178584   \n",
       "plan_PREMIUM_FREE          0.021251       -0.021251           -0.021251   \n",
       "plan_PREMIUM_OFFER         0.015299       -0.015299           -0.015299   \n",
       "plan_STANDARD             -0.224657        0.224657            0.224657   \n",
       "\n",
       "                        engaged  birth_year  transactions_type  \\\n",
       "active_count           0.831551    0.040829           0.680135   \n",
       "inactive_count        -0.831551   -0.040829          -0.680135   \n",
       "inactivity_percent    -0.831551   -0.040829          -0.680135   \n",
       "engaged                1.000000    0.049468           0.557831   \n",
       "birth_year             0.049468    1.000000           0.099016   \n",
       "transactions_type      0.557831    0.099016           1.000000   \n",
       "transactions_currency  0.332960    0.070968           0.558740   \n",
       "amount_count           0.449703    0.105955           0.536458   \n",
       "amount_mean           -0.002736    0.004971          -0.001995   \n",
       "amount_max             0.019048    0.013094           0.018016   \n",
       "amount_min            -0.067798   -0.004477          -0.094222   \n",
       "amount_sum             0.018804    0.012983           0.017687   \n",
       "created_date_day       0.001672   -0.006119          -0.009251   \n",
       "created_date_week     -0.324140    0.012047          -0.197104   \n",
       "created_date_month    -0.334288    0.010340          -0.204811   \n",
       "created_date_year     -0.051196    0.003033          -0.020409   \n",
       "plan_METAL             0.101725   -0.019648           0.272465   \n",
       "plan_METAL_FREE        0.036408    0.017238           0.059221   \n",
       "plan_PREMIUM           0.155788   -0.039819           0.157651   \n",
       "plan_PREMIUM_FREE      0.008648   -0.000819           0.009219   \n",
       "plan_PREMIUM_OFFER     0.025238   -0.009246           0.030939   \n",
       "plan_STANDARD         -0.194674    0.041776          -0.304724   \n",
       "\n",
       "                       transactions_currency  amount_count  amount_mean  \\\n",
       "active_count                        0.425177      0.540966    -0.000665   \n",
       "inactive_count                     -0.425177     -0.540966     0.000665   \n",
       "inactivity_percent                 -0.425177     -0.540966     0.000665   \n",
       "engaged                             0.332960      0.449703    -0.002736   \n",
       "birth_year                          0.070968      0.105955     0.004971   \n",
       "transactions_type                   0.558740      0.536458    -0.001995   \n",
       "transactions_currency               1.000000      0.337480    -0.002459   \n",
       "amount_count                        0.337480      1.000000    -0.003373   \n",
       "amount_mean                        -0.002459     -0.003373     1.000000   \n",
       "amount_max                          0.010146      0.013998     0.322080   \n",
       "amount_min                         -0.033177     -0.048267    -0.000404   \n",
       "amount_sum                          0.009335      0.014164     0.338838   \n",
       "created_date_day                   -0.012244      0.001866     0.007643   \n",
       "created_date_week                  -0.181242     -0.157020    -0.000015   \n",
       "created_date_month                 -0.185298     -0.162286    -0.000641   \n",
       "created_date_year                  -0.020959     -0.018432    -0.000593   \n",
       "plan_METAL                          0.121822      0.335887    -0.001703   \n",
       "plan_METAL_FREE                     0.052526      0.059105    -0.000458   \n",
       "plan_PREMIUM                        0.129851      0.149703     0.003926   \n",
       "plan_PREMIUM_FREE                   0.023262      0.032135    -0.000150   \n",
       "plan_PREMIUM_OFFER                  0.021722      0.036803    -0.000375   \n",
       "plan_STANDARD                      -0.189482     -0.339123    -0.001920   \n",
       "\n",
       "                       amount_max  ...  created_date_day  created_date_week  \\\n",
       "active_count             0.021903  ...         -0.008786          -0.416095   \n",
       "inactive_count          -0.021903  ...          0.008786           0.416095   \n",
       "inactivity_percent      -0.021903  ...          0.008786           0.416095   \n",
       "engaged                  0.019048  ...          0.001672          -0.324140   \n",
       "birth_year               0.013094  ...         -0.006119           0.012047   \n",
       "transactions_type        0.018016  ...         -0.009251          -0.197104   \n",
       "transactions_currency    0.010146  ...         -0.012244          -0.181242   \n",
       "amount_count             0.013998  ...          0.001866          -0.157020   \n",
       "amount_mean              0.322080  ...          0.007643          -0.000015   \n",
       "amount_max               1.000000  ...         -0.004343          -0.012222   \n",
       "amount_min              -0.001751  ...         -0.005561          -0.000674   \n",
       "amount_sum               0.998438  ...         -0.003913          -0.012308   \n",
       "created_date_day        -0.004343  ...          1.000000           0.116136   \n",
       "created_date_week       -0.012222  ...          0.116136           1.000000   \n",
       "created_date_month      -0.012101  ...          0.046070           0.983367   \n",
       "created_date_year       -0.001121  ...         -0.090300          -0.106694   \n",
       "plan_METAL              -0.002699  ...         -0.000615           0.004725   \n",
       "plan_METAL_FREE         -0.000864  ...          0.007939          -0.009419   \n",
       "plan_PREMIUM             0.012494  ...         -0.002378          -0.031054   \n",
       "plan_PREMIUM_FREE       -0.000284  ...          0.000332          -0.007929   \n",
       "plan_PREMIUM_OFFER      -0.000705  ...          0.013936           0.021321   \n",
       "plan_STANDARD           -0.007943  ...         -0.001000           0.020672   \n",
       "\n",
       "                       created_date_month  created_date_year  plan_METAL  \\\n",
       "active_count                    -0.425845          -0.040182    0.121152   \n",
       "inactive_count                   0.425845           0.040182   -0.121152   \n",
       "inactivity_percent               0.425845           0.040182   -0.121152   \n",
       "engaged                         -0.334288          -0.051196    0.101725   \n",
       "birth_year                       0.010340           0.003033   -0.019648   \n",
       "transactions_type               -0.204811          -0.020409    0.272465   \n",
       "transactions_currency           -0.185298          -0.020959    0.121822   \n",
       "amount_count                    -0.162286          -0.018432    0.335887   \n",
       "amount_mean                     -0.000641          -0.000593   -0.001703   \n",
       "amount_max                      -0.012101          -0.001121   -0.002699   \n",
       "amount_min                      -0.000027          -0.002989   -0.014344   \n",
       "amount_sum                      -0.012215          -0.001125   -0.002713   \n",
       "created_date_day                 0.046070          -0.090300   -0.000615   \n",
       "created_date_week                0.983367          -0.106694    0.004725   \n",
       "created_date_month               1.000000          -0.102399    0.003494   \n",
       "created_date_year               -0.102399           1.000000    0.002188   \n",
       "plan_METAL                       0.003494           0.002188    1.000000   \n",
       "plan_METAL_FREE                 -0.010660          -0.002471   -0.007150   \n",
       "plan_PREMIUM                    -0.031134          -0.012213   -0.035332   \n",
       "plan_PREMIUM_FREE               -0.008126          -0.000812   -0.002349   \n",
       "plan_PREMIUM_OFFER               0.019897          -0.002031   -0.005875   \n",
       "plan_STANDARD                    0.021897           0.009024   -0.578988   \n",
       "\n",
       "                       plan_METAL_FREE  plan_PREMIUM  plan_PREMIUM_FREE  \\\n",
       "active_count                  0.041593      0.178584           0.021251   \n",
       "inactive_count               -0.041593     -0.178584          -0.021251   \n",
       "inactivity_percent           -0.041593     -0.178584          -0.021251   \n",
       "engaged                       0.036408      0.155788           0.008648   \n",
       "birth_year                    0.017238     -0.039819          -0.000819   \n",
       "transactions_type             0.059221      0.157651           0.009219   \n",
       "transactions_currency         0.052526      0.129851           0.023262   \n",
       "amount_count                  0.059105      0.149703           0.032135   \n",
       "amount_mean                  -0.000458      0.003926          -0.000150   \n",
       "amount_max                   -0.000864      0.012494          -0.000284   \n",
       "amount_min                   -0.003994     -0.011388          -0.001345   \n",
       "amount_sum                   -0.000867      0.013303          -0.000285   \n",
       "created_date_day              0.007939     -0.002378           0.000332   \n",
       "created_date_week            -0.009419     -0.031054          -0.007929   \n",
       "created_date_month           -0.010660     -0.031134          -0.008126   \n",
       "created_date_year            -0.002471     -0.012213          -0.000812   \n",
       "plan_METAL                   -0.007150     -0.035332          -0.002349   \n",
       "plan_METAL_FREE               1.000000     -0.009428          -0.000627   \n",
       "plan_PREMIUM                 -0.009428      1.000000          -0.003097   \n",
       "plan_PREMIUM_FREE            -0.000627     -0.003097           1.000000   \n",
       "plan_PREMIUM_OFFER           -0.001568     -0.007748          -0.000515   \n",
       "plan_STANDARD                -0.154504     -0.763521          -0.050757   \n",
       "\n",
       "                       plan_PREMIUM_OFFER  plan_STANDARD  \n",
       "active_count                     0.015299      -0.224657  \n",
       "inactive_count                  -0.015299       0.224657  \n",
       "inactivity_percent              -0.015299       0.224657  \n",
       "engaged                          0.025238      -0.194674  \n",
       "birth_year                      -0.009246       0.041776  \n",
       "transactions_type                0.030939      -0.304724  \n",
       "transactions_currency            0.021722      -0.189482  \n",
       "amount_count                     0.036803      -0.339123  \n",
       "amount_mean                     -0.000375      -0.001920  \n",
       "amount_max                      -0.000705      -0.007943  \n",
       "amount_min                      -0.001608       0.018666  \n",
       "amount_sum                      -0.000708      -0.008572  \n",
       "created_date_day                 0.013936      -0.001000  \n",
       "created_date_week                0.021321       0.020672  \n",
       "created_date_month               0.019897       0.021897  \n",
       "created_date_year               -0.002031       0.009024  \n",
       "plan_METAL                      -0.005875      -0.578988  \n",
       "plan_METAL_FREE                 -0.001568      -0.154504  \n",
       "plan_PREMIUM                    -0.007748      -0.763521  \n",
       "plan_PREMIUM_FREE               -0.000515      -0.050757  \n",
       "plan_PREMIUM_OFFER               1.000000      -0.126962  \n",
       "plan_STANDARD                   -0.126962       1.000000  \n",
       "\n",
       "[22 rows x 22 columns]"
      ]
     },
     "execution_count": 48,
     "metadata": {},
     "output_type": "execute_result"
    },
    {
     "data": {
      "image/png": "[encoded data removed]",
      "text/plain": [
       "<Figure size 720x576 with 2 Axes>"
      ]
     },
     "metadata": {},
     "output_type": "display_data"
    }
   ],
   "source": [
    "# Create a correlation matrix.\n",
    "ax = plt.subplots(figsize=(10,8))\n",
    "corr_result = df_user_activities.corr()\n",
    "sns.heatmap(corr_result, xticklabels=corr_result.columns.values, yticklabels=corr_result.columns.values)\n",
    "plt.title('Heatmap of Correlation Matrix')\n",
    "corr_result"
   ]
  },
  {
   "cell_type": "code",
   "execution_count": null,
   "metadata": {},
   "outputs": [],
   "source": []
  },
  {
   "cell_type": "markdown",
   "metadata": {},
   "source": [
    "#### Split-out Training and Validation dataset"
   ]
  },
  {
   "cell_type": "code",
   "execution_count": 49,
   "metadata": {},
   "outputs": [],
   "source": [
    "df_users = df_user_activities[['user_id']]\n",
    "df_features = df_user_activities.drop(columns=['engaged','user_id','inactivity_percent','inactive_count','active_count'])\n",
    "df_target = df_user_activities[['engaged']]"
   ]
  },
  {
   "cell_type": "markdown",
   "metadata": {},
   "source": [
    "the following were dropped beacause of overfitting: 'inactivity_percent','inactive_count','active_count'"
   ]
  },
  {
   "cell_type": "markdown",
   "metadata": {},
   "source": [
    "#### Feature Selection"
   ]
  },
  {
   "cell_type": "code",
   "execution_count": 50,
   "metadata": {},
   "outputs": [
    {
     "data": {
      "text/plain": [
       "((13601, 18), (5829, 18))"
      ]
     },
     "execution_count": 50,
     "metadata": {},
     "output_type": "execute_result"
    }
   ],
   "source": [
    "#separate into train and test set\n",
    "feature_train, feature_test, target_train, target_test = train_test_split(\n",
    "    df_features.values, #predictors\n",
    "    df_target['engaged'].values, #target\n",
    "    test_size=0.30,\n",
    "    random_state=0)\n",
    "\n",
    "feature_train.shape, feature_test.shape"
   ]
  },
  {
   "cell_type": "code",
   "execution_count": 51,
   "metadata": {},
   "outputs": [],
   "source": [
    "# for feature selection with RFE\n",
    "from sklearn.feature_selection import RFE\n",
    "from sklearn.linear_model import LogisticRegression"
   ]
  },
  {
   "cell_type": "code",
   "execution_count": 52,
   "metadata": {},
   "outputs": [
    {
     "name": "stdout",
     "output_type": "stream",
     "text": [
      "Num Features:\n",
      "15\n",
      "Selected Features:\n",
      "[ True  True  True  True  True  True  True  True  True  True  True  True\n",
      "  True False  True False False  True]\n",
      "Feature Ranking: %s\n",
      "[1 1 1 1 1 1 1 1 1 1 1 1 1 2 1 4 3 1]\n"
     ]
    }
   ],
   "source": [
    "# feature selection\n",
    "model = LogisticRegression()\n",
    "rfe = RFE(model,15)\n",
    "fit = rfe.fit(abs(feature_train), target_train)\n",
    "print(\"Num Features:\")\n",
    "print(fit.n_features_)\n",
    "\n",
    "print(\"Selected Features:\")\n",
    "print(fit.support_)\n",
    "\n",
    "print(\"Feature Ranking: %s\")\n",
    "print(fit.ranking_)"
   ]
  },
  {
   "cell_type": "code",
   "execution_count": 53,
   "metadata": {},
   "outputs": [
    {
     "data": {
      "text/plain": [
       "Index(['birth_year', 'transactions_type', 'transactions_currency',\n",
       "       'amount_count', 'amount_mean', 'amount_max', 'amount_min', 'amount_sum',\n",
       "       'created_date_day', 'created_date_week', 'created_date_month',\n",
       "       'created_date_year', 'plan_METAL', 'plan_PREMIUM', 'plan_STANDARD'],\n",
       "      dtype='object')"
      ]
     },
     "execution_count": 53,
     "metadata": {},
     "output_type": "execute_result"
    }
   ],
   "source": [
    "# this is how we can make a list of the selected features\n",
    "selected_feat = df_features.columns[(fit.support_)]\n",
    "selected_feat"
   ]
  },
  {
   "cell_type": "markdown",
   "metadata": {},
   "source": [
    "#### Evaluate Algorithms: Baseline\n",
    "To know thet algorithms will do well on this dataset, a 10-fold cross-validation will be used on the dataset and the algorithms will be evaluated using the `accuracy and f1 metric`."
   ]
  },
  {
   "cell_type": "code",
   "execution_count": 54,
   "metadata": {},
   "outputs": [],
   "source": [
    "# Test options and evaluation metric\n",
    "num_folds = 20\n",
    "seed = 42\n",
    "scoring = 'f1'\n",
    "kfold = KFold(n_splits=num_folds)"
   ]
  },
  {
   "cell_type": "code",
   "execution_count": 55,
   "metadata": {},
   "outputs": [
    {
     "data": {
      "text/plain": [
       "((13601, 12), (5829, 12))"
      ]
     },
     "execution_count": 55,
     "metadata": {},
     "output_type": "execute_result"
    }
   ],
   "source": [
    "#separate into train and test set\n",
    "feature_train, feature_test, target_train, target_test = train_test_split(\n",
    "    df_features[['birth_year', 'transactions_type', 'transactions_currency',\n",
    "                'amount_count', 'amount_mean', 'amount_max', 'amount_min', 'amount_sum',\n",
    "                'created_date_day', 'created_date_month','created_date_year', 'plan_STANDARD']].values, #predictors\n",
    "    df_target['engaged'].values, #target\n",
    "    test_size=0.30,\n",
    "    random_state=0)\n",
    "\n",
    "feature_train.shape, feature_test.shape"
   ]
  },
  {
   "cell_type": "code",
   "execution_count": null,
   "metadata": {},
   "outputs": [],
   "source": []
  },
  {
   "cell_type": "markdown",
   "metadata": {},
   "source": [
    "#### DecisionTreeClassifier Model\n",
    "The model is easy to understand, visualize, interpret, and manipulate"
   ]
  },
  {
   "cell_type": "code",
   "execution_count": 56,
   "metadata": {},
   "outputs": [
    {
     "data": {
      "text/plain": [
       "0.7910205420472018"
      ]
     },
     "execution_count": 56,
     "metadata": {},
     "output_type": "execute_result"
    }
   ],
   "source": [
    "dtc = DecisionTreeClassifier(random_state=seed)\n",
    "dtc_result = cross_val_score(dtc, feature_train, target_train, cv=kfold, scoring=scoring)\n",
    "dtc_result.mean()"
   ]
  },
  {
   "cell_type": "code",
   "execution_count": 57,
   "metadata": {},
   "outputs": [
    {
     "name": "stdout",
     "output_type": "stream",
     "text": [
      "---Decision Tree Classifier Model---\n",
      "f1-score(train):  1.0\n",
      "f1-score(test):  0.81094432832985\n",
      "\n",
      "              precision    recall  f1-score   support\n",
      "\n",
      "           0       0.85      0.84      0.84      3212\n",
      "           1       0.81      0.82      0.81      2617\n",
      "\n",
      "    accuracy                           0.83      5829\n",
      "   macro avg       0.83      0.83      0.83      5829\n",
      "weighted avg       0.83      0.83      0.83      5829\n",
      "\n"
     ]
    }
   ],
   "source": [
    "dtc = dtc.fit(feature_train, target_train)\n",
    "\n",
    "# predict the label on the traning data\n",
    "predict_train = dtc.predict(feature_train)\n",
    "train_score = f1_score(y_true= target_train, y_pred= predict_train)\n",
    "\n",
    "pred = dtc.predict(feature_test)\n",
    "test_score = f1_score(y_true= target_test, y_pred= pred)\n",
    "print (\"---Decision Tree Classifier Model---\")\n",
    "print(\"f1-score(train): \", train_score)\n",
    "print(\"f1-score(test): \", test_score)\n",
    "print('')\n",
    "dtc_roc_auc = roc_auc_score(target_test, dtc.predict(feature_test))\n",
    "print(classification_report(target_test, dtc.predict(feature_test)))"
   ]
  },
  {
   "cell_type": "code",
   "execution_count": null,
   "metadata": {},
   "outputs": [],
   "source": []
  },
  {
   "cell_type": "markdown",
   "metadata": {},
   "source": [
    "#### RandomForestClassifier Model\n",
    "The model is interpretable, renders feature importance and less data pre-processing required"
   ]
  },
  {
   "cell_type": "code",
   "execution_count": 58,
   "metadata": {},
   "outputs": [
    {
     "data": {
      "text/plain": [
       "0.8512830712065165"
      ]
     },
     "execution_count": 58,
     "metadata": {},
     "output_type": "execute_result"
    }
   ],
   "source": [
    "rfc = RandomForestClassifier(random_state=seed)\n",
    "rfc_result = cross_val_score(rfc, feature_train, target_train, cv=kfold, scoring=scoring)\n",
    "rfc_result.mean()"
   ]
  },
  {
   "cell_type": "code",
   "execution_count": 59,
   "metadata": {},
   "outputs": [
    {
     "name": "stdout",
     "output_type": "stream",
     "text": [
      "---Random Forest Classifier Model---\n",
      "f1-score(train):  1.0\n",
      "f1-score(test):  0.8571428571428571\n",
      "\n",
      "              precision    recall  f1-score   support\n",
      "\n",
      "           0       0.89      0.87      0.88      3212\n",
      "           1       0.85      0.87      0.86      2617\n",
      "\n",
      "    accuracy                           0.87      5829\n",
      "   macro avg       0.87      0.87      0.87      5829\n",
      "weighted avg       0.87      0.87      0.87      5829\n",
      "\n"
     ]
    }
   ],
   "source": [
    "rfc = rfc.fit(feature_train, target_train)\n",
    "# predict the label on the traning data\n",
    "predict_train = rfc.predict(feature_train)\n",
    "train_score = f1_score(y_true= target_train, y_pred= predict_train)\n",
    "\n",
    "pred = rfc.predict(feature_test)\n",
    "test_score = f1_score(y_true= target_test, y_pred= pred)\n",
    "print (\"---Random Forest Classifier Model---\")\n",
    "print(\"f1-score(train): \", train_score)\n",
    "print(\"f1-score(test): \", test_score)\n",
    "print('')\n",
    "rfc_roc_auc = roc_auc_score(target_test, rfc.predict(feature_test))\n",
    "print(classification_report(target_test, rfc.predict(feature_test)))"
   ]
  },
  {
   "cell_type": "code",
   "execution_count": null,
   "metadata": {},
   "outputs": [],
   "source": []
  },
  {
   "cell_type": "markdown",
   "metadata": {},
   "source": [
    "#### Gradient Boosting Classifier Model\n",
    "This model provides predictive accuracy, provides several hyperparameter tuning options, works great with categorical and numerical values as is."
   ]
  },
  {
   "cell_type": "code",
   "execution_count": 60,
   "metadata": {},
   "outputs": [
    {
     "data": {
      "text/plain": [
       "0.8583485398778764"
      ]
     },
     "execution_count": 60,
     "metadata": {},
     "output_type": "execute_result"
    }
   ],
   "source": [
    "gbc = GradientBoostingClassifier(random_state=seed)\n",
    "gbc_result = cross_val_score(gbc, feature_train, target_train, cv=kfold, scoring=scoring)\n",
    "gbc_result.mean()"
   ]
  },
  {
   "cell_type": "code",
   "execution_count": 61,
   "metadata": {},
   "outputs": [
    {
     "name": "stdout",
     "output_type": "stream",
     "text": [
      "---Gradient Boosting Classifier Model---\n",
      "f1-score(train):  0.8677282547811475\n",
      "f1-score(test):  0.8645500657523953\n",
      "\n",
      "              precision    recall  f1-score   support\n",
      "\n",
      "           0       0.90      0.87      0.89      3212\n",
      "           1       0.85      0.88      0.86      2617\n",
      "\n",
      "    accuracy                           0.88      5829\n",
      "   macro avg       0.87      0.88      0.88      5829\n",
      "weighted avg       0.88      0.88      0.88      5829\n",
      "\n"
     ]
    }
   ],
   "source": [
    "gbc = gbc.fit(feature_train, target_train)\n",
    "# predict the label on the traning data\n",
    "predict_train = gbc.predict(feature_train)\n",
    "train_score = f1_score(y_true= target_train, y_pred= predict_train)\n",
    "\n",
    "pred = gbc.predict(feature_test)\n",
    "test_score = f1_score(y_true= target_test, y_pred= pred)\n",
    "print (\"---Gradient Boosting Classifier Model---\")\n",
    "print(\"f1-score(train): \", train_score)\n",
    "print(\"f1-score(test): \", test_score)\n",
    "print('')\n",
    "gbc_roc_auc = roc_auc_score(target_test, gbc.predict(feature_test))\n",
    "print(classification_report(target_test, gbc.predict(feature_test)))"
   ]
  },
  {
   "cell_type": "code",
   "execution_count": null,
   "metadata": {},
   "outputs": [],
   "source": []
  },
  {
   "cell_type": "markdown",
   "metadata": {},
   "source": [
    "#### ROC Graph"
   ]
  },
  {
   "cell_type": "code",
   "execution_count": 62,
   "metadata": {},
   "outputs": [
    {
     "data": {
      "image/png": "[encoded data removed]",
      "text/plain": [
       "<Figure size 1440x576 with 1 Axes>"
      ]
     },
     "metadata": {},
     "output_type": "display_data"
    }
   ],
   "source": [
    "# Create ROC Graph\n",
    "dtc_fpr, dtc_tpr, dtc_thresholds = roc_curve(target_test, dtc.predict_proba(feature_test)[:,1])\n",
    "rfc_fpr, rfc_tpr, rfc_thresholds = roc_curve(target_test, rfc.predict_proba(feature_test)[:,1])\n",
    "gbc_fpr, gbc_tpr, gbc_thresholds = roc_curve(target_test, gbc.predict_proba(feature_test)[:,1])\n",
    "\n",
    "plt.figure(figsize=(20,8))\n",
    "\n",
    "# Plot Decision Tree Classifier ROC\n",
    "plt.plot(dtc_fpr, dtc_tpr, label='Decision Tree Classifier (area = %0.2f)' % dtc_roc_auc)\n",
    "\n",
    "# Plot Random Forest Classifier ROC\n",
    "plt.plot(rfc_fpr, rfc_tpr, label='Random Forest Classifier (area = %0.2f)' % rfc_roc_auc)\n",
    "\n",
    "# Plot Gradient Boosting Classifier ROC\n",
    "plt.plot(gbc_fpr, gbc_tpr, label='Gradient Boosting Classifier (area = %0.2f)' % gbc_roc_auc)\n",
    "\n",
    "# Plot Base Rate ROC\n",
    "plt.plot([0,1], [0,1],label='Base Rate')\n",
    "\n",
    "\n",
    "plt.xlim([0.0, 1.0])\n",
    "plt.ylim([0.0, 1.05])\n",
    "plt.xlabel('False Positive Rate')\n",
    "plt.ylabel('True Positive Rate')\n",
    "plt.title('ROC Graph')\n",
    "plt.legend(loc=\"lower right\")\n",
    "\n",
    "plt.show()"
   ]
  },
  {
   "cell_type": "markdown",
   "metadata": {},
   "source": [
    "The ROC curve above shows the True positive and False positive rates of each model with Gradient Boosting Classifier having the best outcome."
   ]
  },
  {
   "cell_type": "code",
   "execution_count": null,
   "metadata": {},
   "outputs": [],
   "source": []
  },
  {
   "cell_type": "markdown",
   "metadata": {},
   "source": [
    "#### Model Tuning\n",
    "GradientBoostingClassifier"
   ]
  },
  {
   "cell_type": "code",
   "execution_count": 63,
   "metadata": {},
   "outputs": [
    {
     "data": {
      "text/plain": [
       "({'max_depth': 7, 'min_samples_split': 800}, 0.9493354898717736)"
      ]
     },
     "execution_count": 63,
     "metadata": {},
     "output_type": "execute_result"
    }
   ],
   "source": [
    "# Set values to use in tuning the model\n",
    "param_test = {'max_depth':range(5,16,2), 'min_samples_split':range(800,1001,200)}\n",
    "gsearch = GridSearchCV(estimator = GradientBoostingClassifier(learning_rate=0.1, n_estimators=80, max_features='sqrt', subsample=0.8, random_state=10), \n",
    "param_grid = param_test, scoring='roc_auc',n_jobs=4, cv=10)\n",
    "gsearch.fit(feature_train, target_train)\n",
    "gsearch.best_params_, gsearch.best_score_"
   ]
  },
  {
   "cell_type": "code",
   "execution_count": null,
   "metadata": {},
   "outputs": [],
   "source": []
  },
  {
   "cell_type": "code",
   "execution_count": 64,
   "metadata": {},
   "outputs": [
    {
     "name": "stdout",
     "output_type": "stream",
     "text": [
      "f1-score\n",
      "0.8641743377794476\n",
      " \n",
      "confusion_matrix\n",
      "[[2806  406]\n",
      " [ 317 2300]]\n",
      " \n",
      "classification_report\n",
      "              precision    recall  f1-score   support\n",
      "\n",
      "           0       0.90      0.87      0.89      3212\n",
      "           1       0.85      0.88      0.86      2617\n",
      "\n",
      "    accuracy                           0.88      5829\n",
      "   macro avg       0.87      0.88      0.88      5829\n",
      "weighted avg       0.88      0.88      0.88      5829\n",
      "\n"
     ]
    }
   ],
   "source": [
    "# Make predictions on validation dataset\n",
    "model = GradientBoostingClassifier(learning_rate=0.1, n_estimators=80,min_samples_split=1000,min_samples_leaf=1,max_depth=9)\n",
    "model.fit(feature_train, target_train)\n",
    "predictions = model.predict(feature_test)\n",
    "print('f1-score')\n",
    "print(f1_score(target_test, predictions))\n",
    "print(' ')\n",
    "print('confusion_matrix')\n",
    "print(confusion_matrix(target_test, predictions))\n",
    "print(' ')\n",
    "print('classification_report')\n",
    "print(classification_report(target_test, predictions))"
   ]
  },
  {
   "cell_type": "markdown",
   "metadata": {},
   "source": [
    "More tuning needs to be done to get optimal results"
   ]
  },
  {
   "cell_type": "markdown",
   "metadata": {},
   "source": [
    "#### Feature Importances"
   ]
  },
  {
   "cell_type": "code",
   "execution_count": 65,
   "metadata": {},
   "outputs": [
    {
     "data": {
      "text/html": [
       "<div>\n",
       "<style scoped>\n",
       "    .dataframe tbody tr th:only-of-type {\n",
       "        vertical-align: middle;\n",
       "    }\n",
       "\n",
       "    .dataframe tbody tr th {\n",
       "        vertical-align: top;\n",
       "    }\n",
       "\n",
       "    .dataframe thead th {\n",
       "        text-align: right;\n",
       "    }\n",
       "</style>\n",
       "<table border=\"1\" class=\"dataframe\">\n",
       "  <thead>\n",
       "    <tr style=\"text-align: right;\">\n",
       "      <th></th>\n",
       "      <th>index</th>\n",
       "      <th>importance</th>\n",
       "    </tr>\n",
       "  </thead>\n",
       "  <tbody>\n",
       "    <tr>\n",
       "      <th>0</th>\n",
       "      <td>amount_count</td>\n",
       "      <td>0.722139</td>\n",
       "    </tr>\n",
       "    <tr>\n",
       "      <th>1</th>\n",
       "      <td>created_date_month</td>\n",
       "      <td>0.192925</td>\n",
       "    </tr>\n",
       "    <tr>\n",
       "      <th>2</th>\n",
       "      <td>amount_sum</td>\n",
       "      <td>0.019179</td>\n",
       "    </tr>\n",
       "    <tr>\n",
       "      <th>3</th>\n",
       "      <td>amount_mean</td>\n",
       "      <td>0.014827</td>\n",
       "    </tr>\n",
       "    <tr>\n",
       "      <th>4</th>\n",
       "      <td>amount_max</td>\n",
       "      <td>0.014294</td>\n",
       "    </tr>\n",
       "    <tr>\n",
       "      <th>5</th>\n",
       "      <td>amount_min</td>\n",
       "      <td>0.011001</td>\n",
       "    </tr>\n",
       "    <tr>\n",
       "      <th>6</th>\n",
       "      <td>birth_year</td>\n",
       "      <td>0.008303</td>\n",
       "    </tr>\n",
       "    <tr>\n",
       "      <th>7</th>\n",
       "      <td>plan_STANDARD</td>\n",
       "      <td>0.006763</td>\n",
       "    </tr>\n",
       "    <tr>\n",
       "      <th>8</th>\n",
       "      <td>created_date_year</td>\n",
       "      <td>0.004703</td>\n",
       "    </tr>\n",
       "    <tr>\n",
       "      <th>9</th>\n",
       "      <td>transactions_type</td>\n",
       "      <td>0.002597</td>\n",
       "    </tr>\n",
       "    <tr>\n",
       "      <th>10</th>\n",
       "      <td>created_date_day</td>\n",
       "      <td>0.001846</td>\n",
       "    </tr>\n",
       "    <tr>\n",
       "      <th>11</th>\n",
       "      <td>transactions_currency</td>\n",
       "      <td>0.001422</td>\n",
       "    </tr>\n",
       "  </tbody>\n",
       "</table>\n",
       "</div>"
      ],
      "text/plain": [
       "                    index  importance\n",
       "0            amount_count    0.722139\n",
       "1      created_date_month    0.192925\n",
       "2              amount_sum    0.019179\n",
       "3             amount_mean    0.014827\n",
       "4              amount_max    0.014294\n",
       "5              amount_min    0.011001\n",
       "6              birth_year    0.008303\n",
       "7           plan_STANDARD    0.006763\n",
       "8       created_date_year    0.004703\n",
       "9       transactions_type    0.002597\n",
       "10       created_date_day    0.001846\n",
       "11  transactions_currency    0.001422"
      ]
     },
     "execution_count": 65,
     "metadata": {},
     "output_type": "execute_result"
    }
   ],
   "source": [
    "# Get Feature Importances\n",
    "feature_importances = pd.DataFrame(model.feature_importances_,\n",
    "                                   index = ['birth_year', 'transactions_type', 'transactions_currency',\n",
    "                                            'amount_count', 'amount_mean', 'amount_max', 'amount_min', 'amount_sum',\n",
    "                                            'created_date_day', 'created_date_month','created_date_year', 'plan_STANDARD'],\n",
    "                                    columns=['importance']).sort_values('importance', ascending=False)\n",
    "feature_importances = feature_importances.reset_index()\n",
    "feature_importances"
   ]
  },
  {
   "cell_type": "markdown",
   "metadata": {},
   "source": [
    "The above shows a table of features with the corresponding importance scores"
   ]
  },
  {
   "cell_type": "code",
   "execution_count": 66,
   "metadata": {},
   "outputs": [
    {
     "data": {
      "text/plain": [
       "<matplotlib.axes._subplots.AxesSubplot at 0x13a61bc50>"
      ]
     },
     "execution_count": 66,
     "metadata": {},
     "output_type": "execute_result"
    },
    {
     "data": {
      "image/png": "[encoded data removed]",
      "text/plain": [
       "<Figure size 936x504 with 1 Axes>"
      ]
     },
     "metadata": {},
     "output_type": "display_data"
    }
   ],
   "source": [
    "# Plot the Feature Importance\n",
    "sns.set(style=\"whitegrid\")\n",
    "\n",
    "# Initialize the matplotlib figure\n",
    "f, ax = plt.subplots(figsize=(13, 7))\n",
    "sns.set_color_codes(\"pastel\")\n",
    "sns.barplot(x=\"importance\", y='index', data=feature_importances,\n",
    "            label=\"Total\", color=\"royalblue\")"
   ]
  },
  {
   "cell_type": "markdown",
   "metadata": {},
   "source": [
    "From the plot above the 2 most important features in the selected set of features are amount_count and created_date_month."
   ]
  },
  {
   "cell_type": "code",
   "execution_count": 67,
   "metadata": {},
   "outputs": [
    {
     "data": {
      "text/plain": [
       "['../models/gradient_boosting_classifier_model.pkl']"
      ]
     },
     "execution_count": 67,
     "metadata": {},
     "output_type": "execute_result"
    }
   ],
   "source": [
    "# save model\n",
    "import joblib\n",
    "joblib.dump(model,'../models/gradient_boosting_classifier_model.pkl')"
   ]
  },
  {
   "cell_type": "code",
   "execution_count": null,
   "metadata": {},
   "outputs": [],
   "source": []
  }
 ],
 "metadata": {
  "kernelspec": {
   "display_name": "Python 3",
   "language": "python",
   "name": "python3"
  },
  "language_info": {
   "codemirror_mode": {
    "name": "ipython",
    "version": 3
   },
   "file_extension": ".py",
   "mimetype": "text/x-python",
   "name": "python",
   "nbconvert_exporter": "python",
   "pygments_lexer": "ipython3",
   "version": "3.7.4"
  }
 },
 "nbformat": 4,
 "nbformat_minor": 2
}
