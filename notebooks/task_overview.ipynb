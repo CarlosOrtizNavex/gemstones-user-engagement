{
 "cells": [
  {
   "cell_type": "markdown",
   "metadata": {},
   "source": [
    "## Predicting user engagement\n",
    "---\n",
    "***Why is user engagement so important?***\n",
    "![Listings Screenshot](./reports/images/user-engagement.png)\n",
    "\n",
    "User engagement is highly correlated with overall profitability. User attention is a finite resource and if users choose to spend their time on a particular app or site, they’re signaling that they find value in it. This allows businesses to make money from the product or service with ads, subscriptions, or sales. <br>\n",
    "Source: https://mixpanel.com/topics/what-is-user-engagement/"
   ]
  },
  {
   "cell_type": "markdown",
   "metadata": {},
   "source": [
    "Contents:\n",
    "- Task Overview\n",
    "- Data Overview\n",
    "- Data Acquisition & Processing\n",
    "- Exploratory Analysis\n",
    "- Feature Engineering & Selection\n",
    "- Model Selection & Performance\n",
    "- Take-Aways"
   ]
  },
  {
   "cell_type": "markdown",
   "metadata": {},
   "source": [
    "### Task Overview\n",
    "---\n",
    "The Head of Growth of a FinTech company called GemStones, has hired you as a data scientist to help the team out by predicting which of the users exhibit potential risk to become unengaged and churn.\n",
    "\n",
    "**Goal**:\n",
    "\n",
    "- Define a target metric to measure user engagement\n",
    "- Build a machine learning model to predict user engagement using the target metric\n",
    "- Provide guidance on how the team should reduce churn\n",
    "- Describe a test method to know if the implementation is really reducing churn\n",
    "- Describe how will you measure the impact of the solution on the business revenue?\n",
    "\n",
    "**Potential Interested Parties**:\n",
    "- Growth and Business development leadership\n",
    "- Product leadership\n",
    "- Datascience leadership\n",
    "\n",
    "**Data Source**:\n",
    "- CSV files of User activitities and product data"
   ]
  },
  {
   "cell_type": "markdown",
   "metadata": {},
   "source": [
    "### Data Overview\n",
    "---\n",
    "Data sources made available by GemStones.\n",
    "\n",
    "**Users data:** 19,430 rows and 11 columns \n",
    "- id                                 \n",
    "- birth_year                                  \n",
    "- country                                     \n",
    "- city                                        \n",
    "- created_date                                                   \n",
    "etc..\n",
    "\n",
    "**Transactions data:** 2,740,075 rows and 12 columns\n",
    "- id\n",
    "- type\n",
    "- currency\n",
    "- amount\t\n",
    "etc..\n"
   ]
  },
  {
   "cell_type": "markdown",
   "metadata": {},
   "source": [
    "### Data Processing\n",
    "---\n",
    "\n",
    "**Process used:**\n",
    "\n",
    "The check for missing values showed that there was 1 categorical column with missing values. The datasets were in good conditions without much cleaning effort needed."
   ]
  },
  {
   "cell_type": "markdown",
   "metadata": {},
   "source": [
    ">**Define a target metric to measure user engagement.**"
   ]
  },
  {
   "cell_type": "markdown",
   "metadata": {},
   "source": [
    "GemStones' innovative solutions are better alternatives to bank accounts, they are convenient and easy to use.\n",
    "The business goal of every company is to have growth and be profitable via the services it offers to customers. A business organization like GemStones has this as a goal. To realize it, GemStones is keenly concerned with customer engagement and churn, these components of the business go a long way in determining the overall success of the company.\n",
    "\n",
    "In understanding customer engagement via behaviour, following are likely questions that the business needs to answer with data:\n",
    "- What gets our users to come back to our product?\n",
    "- What do our users do when they are engaged with and interested in our product?\n",
    "- What are the actions that provide our users repeat value?\n",
    "- How often does it make sense for our users to take those actions? Daily? Weekly? Monthly? or Once in a long while?\n",
    "\n",
    "Actions taken on the GemStones app can be collected into the following list regarding “engagement”, these are click events on the various products e.g.\n",
    "\n",
    "- Clicking on Money Transfers items(add money, exchange, details, send)\n",
    "- Scrolling the transaction history view of the Money Transfers product\n",
    "\n",
    "a lot more customer clicks and scroll events can be captured and analysed from other GemStones products like:\n",
    "\n",
    "- Send and Request Payments\n",
    "- Vaults\n",
    "- Savings Vaults\n",
    "- Budgeting\n",
    "- Donations\n",
    "- etc..\n",
    "\n",
    "In the context of the datasets provided for this analysis, the target metric to measure user engagement can be defined as: <br>`The total number of unique active users in a month '(Monthly Active Users (MAU))'`\n",
    "\n",
    "Who is an engaged and unengaged user?<br>\n",
    "An engaged user can be defined as a user that carries out transactions(activities) via any of the listed GemStones products above in a month.\n",
    "An unengaged user can be defined as a user that does not carry out any transaction in a month."
   ]
  },
  {
   "cell_type": "markdown",
   "metadata": {},
   "source": [
    ">**Plot of monthly active users**\n",
    "![Listings Screenshot](./images/active_users.png) \n",
    "\n",
    ">**Plot of monthly inactive users**\n",
    "![Listings Screenshot](./images/inactive_users.png)\n",
    "\n",
    "The plot of monthly active users shows a steady rise in the number of monthly active users. The steady month on month rise could be due to a new feature or new product launch to an existing user base.\n",
    "Observations show a correlation between both plots, this further speaks to the monthly active user rise.\n",
    "A noticeable step difference which is higher than previous bar differences can be observed between 2018-11 and 2018-12, this sharp increase was likely triggered by festivity, the range 2018-11 to 2018-12 is largely filled with various Christmas season activities like vacationing, shopping and parties.\n",
    "The monthly active user metric is good to use in measuring user engagement"
   ]
  },
  {
   "cell_type": "markdown",
   "metadata": {},
   "source": [
    "### Exploratory Analysis\n",
    "---\n",
    "Before going into modeling I carried out exploratory data anaylsis on the various attributes of the dataset to aid in having a better understand of the datasets and how they relate to each other.\n",
    "\n",
    ">**Plot of the distribution of users by country**\n",
    "![Listings Screenshot](./images/plot_country.png)\n",
    "Great Britain has the highest number of users, this could be because GemStones started from GB and has a strong presence there. Looking at the plot, gradual advancement are being made into other countries, the numbers will increase with the execution of targeted marketing campaigns. From the user birth year plot above, the bulk of the user base are between 1979 - 2000, they are largely young individuals, there is a possibility that over 80% of them use Facebook. Facebook has almost 2.5 billion monthly active users as of the fourth quarter of 2019. Facebook's AD services could be used to target \"look alike customers\" there by improving growth and user engagement.\n",
    "\n",
    ">**Plot of the distribution of users by plan**\n",
    "![Listings Screenshot](./images/plot_plan.png)\n",
    "The Standard plan is the highest here, I believe this is so because it is free £0/m, and has a enough features to keep users. We could personalize the value of the premium plan and upsell to the customers on the standard plan, or we could get the profiles of the users in the premium plan and use the Facebook AD services to target \"look alike customers\" \n",
    "\n",
    ">**Plot of the distribution of transactions by transaction type**\n",
    "![Listings Screenshot](./images/plot_transaction_type.png)\n",
    "Card Payment is the highest here, this is likely because users carry out day to day transactions like paying for goods services more than other transaction types.\n",
    "\n",
    ">**Plot of the distribution of transactions by currency**\n",
    "![Listings Screenshot](./images/plot_currency.png)\n",
    "The top 2 currencies in use here are the EUR and GBP.\n",
    "\n",
    ">**Plot of the distribution of user birth year by engagement**\n",
    "![Listings Screenshot](./images/plot_birthyear.png) \n",
    "From the distribution of users by birth year, the inactivity observed spans across every age group represented. (1 = Engaged, 0 = Unengaged)"
   ]
  },
  {
   "cell_type": "markdown",
   "metadata": {},
   "source": [
    "\n",
    "\n",
    ">**Build a machine learning model to predict user engagement using the target metric**\n",
    "\n"
   ]
  },
  {
   "cell_type": "markdown",
   "metadata": {},
   "source": [
    "### Feature Engineering & Selection\n",
    "---\n",
    "**Feature Engineering performed:**\n",
    "- Decompose datetime attributes into components\n",
    "- Aggregate attribute values into count, min, max, count, avg\n",
    "- Label definition\n",
    "- Labeling\n",
    "- Missing value treatment\n",
    "- Categorical attribute transformation\n",
    "\n",
    "**Feature Selection:**\n",
    "- The sklearn.feature_selection package was used\n",
    "- 10 features got selected out of 22 features:\n",
    "    - birth_year\n",
    "    - amount_count\n",
    "    - amount_max\n",
    "    - created_date_month\n",
    "    - created_date_year\n",
    "    - etc..."
   ]
  },
  {
   "cell_type": "markdown",
   "metadata": {},
   "source": [
    "### Modelling & Performance\n",
    "---\n",
    "**Model process:**\n",
    "- Prepared a master dataset\n",
    "- Train-Test-Split of Dataset\n",
    "- Evaluation\n",
    "- Tune parameters using GridSearchCV"
   ]
  },
  {
   "cell_type": "markdown",
   "metadata": {},
   "source": [
    "Used a set of machine learning classifiers for the baseline algorithm evaluation these are DecisionTreeClassifier, RandomForestClassifier and GradientBoostingClassifier.\n",
    "\n",
    "The output of the classifier models are shown below:\n",
    "\n",
    "Model | f1-score(train_cv) | f1-score(test) | roc_auc_score\n",
    "------------ | ----| ----------- | -------- |\n",
    "DecisionTreeClassifier|79.1% | 81.0% |83% |\n",
    "RandomForestClassifier|85.1%| 85.7% |87% |\n",
    "GradientBoostingClassifier|85.8%| 86.4% |88% |\n",
    "\n",
    ">**Plot of AUC ROC**\n",
    "![Listings Screenshot](./images/roc_curve.png)\n",
    "From the plot, the GradientBoostingClassifier performs better than other classifiers. Tuning parameters using GridSearchCV will aid in increasing the score."
   ]
  },
  {
   "cell_type": "markdown",
   "metadata": {},
   "source": [
    ">**Plot of feature importance**\n",
    "![Listings Screenshot](./images/importance.png)\n",
    "The top 2 predictors from the list of attributes are `amount_count` and `created_date_month`. Engineering more features will aid in increasing the perfomance of the model. "
   ]
  },
  {
   "cell_type": "markdown",
   "metadata": {},
   "source": [
    "### Take-Aways\n",
    "---\n",
    "**Observation:**\n",
    "The most important feature `amount_count` is largely influenced by the users with birth year range between  1982 - 1997, that reside in Great Britain, who have subscribed to the GemStones Standard plan and carry out a lot of card payment transactions using EUR or GBP as transaction currencies.\n",
    "\n",
    "\n",
    "**Next steps:**\n",
    "- Experiment with XGBoost and Artificial neural networks(ANN) in improving desired outcome\n",
    "- Enrich model with additional data like datasets of:\n",
    "    - Public holidays\n",
    "    - Country/city weather temperatures"
   ]
  },
  {
   "cell_type": "code",
   "execution_count": null,
   "metadata": {},
   "outputs": [],
   "source": []
  }
 ],
 "metadata": {
  "kernelspec": {
   "display_name": "Python 3",
   "language": "python",
   "name": "python3"
  },
  "language_info": {
   "codemirror_mode": {
    "name": "ipython",
    "version": 3
   },
   "file_extension": ".py",
   "mimetype": "text/x-python",
   "name": "python",
   "nbconvert_exporter": "python",
   "pygments_lexer": "ipython3",
   "version": "3.7.4"
  }
 },
 "nbformat": 4,
 "nbformat_minor": 2
}
