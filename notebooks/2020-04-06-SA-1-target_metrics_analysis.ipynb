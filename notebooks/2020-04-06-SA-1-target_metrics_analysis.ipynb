{
 "cells": [
  {
   "cell_type": "markdown",
   "metadata": {},
   "source": [
    "#### Define a target metric to measure user engagement.\n",
    "\n",
    "GemStones' innovative solutions are better alternatives to bank accounts, they are convenient and easy to use.\n",
    "\n",
    "The business goal of every company is to have growth and be profitable via the services it offers to customers. A business organization like GemStones has this as a goal. In order to realize it, GemStones is keenly concerned with customer engagement and churn, these components of the business go a long way in determining the overall success of the company.\n",
    "\n",
    "In understanding customer engagement via behaviour, the following are likely questions that the business needs to answer with data:\n",
    "- What gets our users to come back to our product?\n",
    "- What do our users do when they are engaged with and interested in our product?\n",
    "- What are the actions that provide our users repeat value?\n",
    "- How often does it make sense for our users to take those actions? Daily? Weekly? Monthly? or once in a long while?\n",
    "\n",
    "Actions taken on the GemStones app can be collected into the following list regarding “engagement”, these are click events on the various products e.g.\n",
    "\n",
    "- Clicking on Funds Transfer menu with sub menu items(fund wallet, transfer money, add beneficiary)\n",
    "- Scrolling the transaction history view of the Funds Transfers product"
   ]
  },
  {
   "cell_type": "markdown",
   "metadata": {},
   "source": [
    "In the context of the datasets provided for this analysis, the target metric to measure user engagement can be defined as: <br>`The total number of unique active users in a month '(Monthly Active Users (MAU))'`\n",
    "\n",
    "An engaged user can be defined as a user that carries out transactions via any of the GemStones products in a month.<br>\n",
    "An unengaged user can be defined as a user that does not carry out any transaction in a month."
   ]
  },
  {
   "cell_type": "markdown",
   "metadata": {},
   "source": [
    "Payment is part of everyday life, users pay for groceries, that cup of cappuccino to start the day, a transfer to a loved one,\n",
    "paying for dinner at a vacation hotel or donating to a good cause, GemStones products can be labeled as \"good market fit\" for all of these customer activitities\n"
   ]
  },
  {
   "cell_type": "markdown",
   "metadata": {},
   "source": [
    "#### Target metrics analyses"
   ]
  },
  {
   "cell_type": "code",
   "execution_count": 1,
   "metadata": {},
   "outputs": [],
   "source": [
    "import pandas as pd\n",
    "import matplotlib.pyplot as plt\n",
    "%matplotlib inline\n",
    "from datetime import datetime, time\n",
    "import seaborn as sns\n",
    "sns.set();"
   ]
  },
  {
   "cell_type": "code",
   "execution_count": 2,
   "metadata": {},
   "outputs": [],
   "source": [
    "# read in data files\n",
    "df_users = pd.read_csv('../data/users.csv', parse_dates=['created_date'])\n",
    "df_transactions = pd.read_csv('../data/transactions.csv', parse_dates=['created_date'])"
   ]
  },
  {
   "cell_type": "code",
   "execution_count": 3,
   "metadata": {},
   "outputs": [
    {
     "data": {
      "text/html": [
       "<div>\n",
       "<style scoped>\n",
       "    .dataframe tbody tr th:only-of-type {\n",
       "        vertical-align: middle;\n",
       "    }\n",
       "\n",
       "    .dataframe tbody tr th {\n",
       "        vertical-align: top;\n",
       "    }\n",
       "\n",
       "    .dataframe thead th {\n",
       "        text-align: right;\n",
       "    }\n",
       "</style>\n",
       "<table border=\"1\" class=\"dataframe\">\n",
       "  <thead>\n",
       "    <tr style=\"text-align: right;\">\n",
       "      <th></th>\n",
       "      <th>transaction_id</th>\n",
       "      <th>transactions_type</th>\n",
       "      <th>transactions_currency</th>\n",
       "      <th>amount</th>\n",
       "      <th>merchant_country</th>\n",
       "      <th>user_id</th>\n",
       "      <th>created_date</th>\n",
       "    </tr>\n",
       "  </thead>\n",
       "  <tbody>\n",
       "    <tr>\n",
       "      <th>0</th>\n",
       "      <td>transaction_0</td>\n",
       "      <td>TRANSFER</td>\n",
       "      <td>AED</td>\n",
       "      <td>4.55</td>\n",
       "      <td>NaN</td>\n",
       "      <td>user_898</td>\n",
       "      <td>2018-04-03 03:34:21.784487</td>\n",
       "    </tr>\n",
       "    <tr>\n",
       "      <th>1</th>\n",
       "      <td>transaction_1</td>\n",
       "      <td>CARD_PAYMENT</td>\n",
       "      <td>AED</td>\n",
       "      <td>15.50</td>\n",
       "      <td>ARE</td>\n",
       "      <td>user_1652</td>\n",
       "      <td>2019-03-19 06:15:59.537032</td>\n",
       "    </tr>\n",
       "    <tr>\n",
       "      <th>2</th>\n",
       "      <td>transaction_2</td>\n",
       "      <td>CARD_PAYMENT</td>\n",
       "      <td>AED</td>\n",
       "      <td>43.40</td>\n",
       "      <td>ARE</td>\n",
       "      <td>user_1652</td>\n",
       "      <td>2019-03-18 18:53:41.323032</td>\n",
       "    </tr>\n",
       "    <tr>\n",
       "      <th>3</th>\n",
       "      <td>transaction_3</td>\n",
       "      <td>TRANSFER</td>\n",
       "      <td>AED</td>\n",
       "      <td>10043.01</td>\n",
       "      <td>NaN</td>\n",
       "      <td>user_1652</td>\n",
       "      <td>2019-03-22 14:20:01.513032</td>\n",
       "    </tr>\n",
       "    <tr>\n",
       "      <th>4</th>\n",
       "      <td>transaction_4</td>\n",
       "      <td>CARD_PAYMENT</td>\n",
       "      <td>AED</td>\n",
       "      <td>43.81</td>\n",
       "      <td>ARE</td>\n",
       "      <td>user_5509</td>\n",
       "      <td>2019-03-22 05:42:50.316652</td>\n",
       "    </tr>\n",
       "  </tbody>\n",
       "</table>\n",
       "</div>"
      ],
      "text/plain": [
       "  transaction_id transactions_type transactions_currency    amount  \\\n",
       "0  transaction_0          TRANSFER                   AED      4.55   \n",
       "1  transaction_1      CARD_PAYMENT                   AED     15.50   \n",
       "2  transaction_2      CARD_PAYMENT                   AED     43.40   \n",
       "3  transaction_3          TRANSFER                   AED  10043.01   \n",
       "4  transaction_4      CARD_PAYMENT                   AED     43.81   \n",
       "\n",
       "  merchant_country    user_id               created_date  \n",
       "0              NaN   user_898 2018-04-03 03:34:21.784487  \n",
       "1              ARE  user_1652 2019-03-19 06:15:59.537032  \n",
       "2              ARE  user_1652 2019-03-18 18:53:41.323032  \n",
       "3              NaN  user_1652 2019-03-22 14:20:01.513032  \n",
       "4              ARE  user_5509 2019-03-22 05:42:50.316652  "
      ]
     },
     "execution_count": 3,
     "metadata": {},
     "output_type": "execute_result"
    }
   ],
   "source": [
    "# view the data\n",
    "df_transactions.head()"
   ]
  },
  {
   "cell_type": "code",
   "execution_count": 4,
   "metadata": {},
   "outputs": [
    {
     "data": {
      "text/html": [
       "<div>\n",
       "<style scoped>\n",
       "    .dataframe tbody tr th:only-of-type {\n",
       "        vertical-align: middle;\n",
       "    }\n",
       "\n",
       "    .dataframe tbody tr th {\n",
       "        vertical-align: top;\n",
       "    }\n",
       "\n",
       "    .dataframe thead th {\n",
       "        text-align: right;\n",
       "    }\n",
       "</style>\n",
       "<table border=\"1\" class=\"dataframe\">\n",
       "  <thead>\n",
       "    <tr style=\"text-align: right;\">\n",
       "      <th></th>\n",
       "      <th>user_id</th>\n",
       "      <th>birth_year</th>\n",
       "      <th>country</th>\n",
       "      <th>created_date</th>\n",
       "      <th>plan</th>\n",
       "    </tr>\n",
       "  </thead>\n",
       "  <tbody>\n",
       "    <tr>\n",
       "      <th>0</th>\n",
       "      <td>user_0</td>\n",
       "      <td>1989</td>\n",
       "      <td>PL</td>\n",
       "      <td>2018-01-13 05:15:15.599466</td>\n",
       "      <td>STANDARD</td>\n",
       "    </tr>\n",
       "    <tr>\n",
       "      <th>1</th>\n",
       "      <td>user_1</td>\n",
       "      <td>1975</td>\n",
       "      <td>GB</td>\n",
       "      <td>2018-01-29 03:38:46.676876</td>\n",
       "      <td>STANDARD</td>\n",
       "    </tr>\n",
       "    <tr>\n",
       "      <th>2</th>\n",
       "      <td>user_2</td>\n",
       "      <td>1987</td>\n",
       "      <td>PL</td>\n",
       "      <td>2018-01-18 19:17:31.229096</td>\n",
       "      <td>STANDARD</td>\n",
       "    </tr>\n",
       "    <tr>\n",
       "      <th>3</th>\n",
       "      <td>user_3</td>\n",
       "      <td>1994</td>\n",
       "      <td>FR</td>\n",
       "      <td>2018-01-15 18:47:56.723104</td>\n",
       "      <td>STANDARD</td>\n",
       "    </tr>\n",
       "    <tr>\n",
       "      <th>4</th>\n",
       "      <td>user_4</td>\n",
       "      <td>1985</td>\n",
       "      <td>GB</td>\n",
       "      <td>2018-01-11 00:36:46.673673</td>\n",
       "      <td>STANDARD</td>\n",
       "    </tr>\n",
       "  </tbody>\n",
       "</table>\n",
       "</div>"
      ],
      "text/plain": [
       "  user_id  birth_year country               created_date      plan\n",
       "0  user_0        1989      PL 2018-01-13 05:15:15.599466  STANDARD\n",
       "1  user_1        1975      GB 2018-01-29 03:38:46.676876  STANDARD\n",
       "2  user_2        1987      PL 2018-01-18 19:17:31.229096  STANDARD\n",
       "3  user_3        1994      FR 2018-01-15 18:47:56.723104  STANDARD\n",
       "4  user_4        1985      GB 2018-01-11 00:36:46.673673  STANDARD"
      ]
     },
     "execution_count": 4,
     "metadata": {},
     "output_type": "execute_result"
    }
   ],
   "source": [
    "# view the data\n",
    "df_users.head()"
   ]
  },
  {
   "cell_type": "code",
   "execution_count": 5,
   "metadata": {},
   "outputs": [
    {
     "name": "stdout",
     "output_type": "stream",
     "text": [
      "Rows:  2740075\n",
      "Colunms:  7\n"
     ]
    }
   ],
   "source": [
    "# view shape of data\n",
    "print('Rows: ', df_transactions.shape[0])\n",
    "print('Colunms: ', df_transactions.shape[1])"
   ]
  },
  {
   "cell_type": "code",
   "execution_count": 6,
   "metadata": {},
   "outputs": [
    {
     "name": "stdout",
     "output_type": "stream",
     "text": [
      "Rows:  19430\n",
      "Colunms:  5\n"
     ]
    }
   ],
   "source": [
    "print('Rows: ', df_users.shape[0])\n",
    "print('Colunms: ', df_users.shape[1])"
   ]
  },
  {
   "cell_type": "code",
   "execution_count": 7,
   "metadata": {},
   "outputs": [
    {
     "data": {
      "text/plain": [
       "19430"
      ]
     },
     "execution_count": 7,
     "metadata": {},
     "output_type": "execute_result"
    }
   ],
   "source": [
    "# check number of users\n",
    "len(df_users.user_id.unique())"
   ]
  },
  {
   "cell_type": "code",
   "execution_count": 8,
   "metadata": {},
   "outputs": [
    {
     "data": {
      "text/plain": [
       "0"
      ]
     },
     "execution_count": 8,
     "metadata": {},
     "output_type": "execute_result"
    }
   ],
   "source": [
    "# Check for duplicate records\n",
    "df_users.duplicated().sum()"
   ]
  },
  {
   "cell_type": "code",
   "execution_count": 9,
   "metadata": {},
   "outputs": [
    {
     "data": {
      "text/plain": [
       "0"
      ]
     },
     "execution_count": 9,
     "metadata": {},
     "output_type": "execute_result"
    }
   ],
   "source": [
    "df_transactions.duplicated().sum()"
   ]
  },
  {
   "cell_type": "code",
   "execution_count": 19,
   "metadata": {},
   "outputs": [
    {
     "data": {
      "text/plain": [
       "user_id         0\n",
       "birth_year      0\n",
       "country         0\n",
       "created_date    0\n",
       "plan            0\n",
       "dtype: int64"
      ]
     },
     "execution_count": 19,
     "metadata": {},
     "output_type": "execute_result"
    }
   ],
   "source": [
    "# check for missing values\n",
    "df_users.isnull().sum()"
   ]
  },
  {
   "cell_type": "code",
   "execution_count": 20,
   "metadata": {},
   "outputs": [
    {
     "data": {
      "text/plain": [
       "transaction_id                 0\n",
       "transactions_type              0\n",
       "transactions_currency          0\n",
       "amount                         0\n",
       "merchant_country         1158979\n",
       "user_id                        0\n",
       "created_date                   0\n",
       "year_month                     0\n",
       "dtype: int64"
      ]
     },
     "execution_count": 20,
     "metadata": {},
     "output_type": "execute_result"
    }
   ],
   "source": [
    "# check for missing values\n",
    "df_transactions.isnull().sum()"
   ]
  },
  {
   "cell_type": "markdown",
   "metadata": {},
   "source": [
    "Missing values observed in transactions, this will be fixed before model development"
   ]
  },
  {
   "cell_type": "code",
   "execution_count": 10,
   "metadata": {},
   "outputs": [
    {
     "data": {
      "text/html": [
       "<div>\n",
       "<style scoped>\n",
       "    .dataframe tbody tr th:only-of-type {\n",
       "        vertical-align: middle;\n",
       "    }\n",
       "\n",
       "    .dataframe tbody tr th {\n",
       "        vertical-align: top;\n",
       "    }\n",
       "\n",
       "    .dataframe thead th {\n",
       "        text-align: right;\n",
       "    }\n",
       "</style>\n",
       "<table border=\"1\" class=\"dataframe\">\n",
       "  <thead>\n",
       "    <tr style=\"text-align: right;\">\n",
       "      <th></th>\n",
       "      <th>transaction_id</th>\n",
       "      <th>transactions_type</th>\n",
       "      <th>transactions_currency</th>\n",
       "      <th>amount</th>\n",
       "      <th>merchant_country</th>\n",
       "      <th>user_id</th>\n",
       "      <th>created_date</th>\n",
       "      <th>year_month</th>\n",
       "    </tr>\n",
       "  </thead>\n",
       "  <tbody>\n",
       "    <tr>\n",
       "      <th>0</th>\n",
       "      <td>transaction_0</td>\n",
       "      <td>TRANSFER</td>\n",
       "      <td>AED</td>\n",
       "      <td>4.55</td>\n",
       "      <td>NaN</td>\n",
       "      <td>user_898</td>\n",
       "      <td>2018-04-03 03:34:21.784487</td>\n",
       "      <td>2018-04</td>\n",
       "    </tr>\n",
       "    <tr>\n",
       "      <th>1</th>\n",
       "      <td>transaction_1</td>\n",
       "      <td>CARD_PAYMENT</td>\n",
       "      <td>AED</td>\n",
       "      <td>15.50</td>\n",
       "      <td>ARE</td>\n",
       "      <td>user_1652</td>\n",
       "      <td>2019-03-19 06:15:59.537032</td>\n",
       "      <td>2019-03</td>\n",
       "    </tr>\n",
       "    <tr>\n",
       "      <th>2</th>\n",
       "      <td>transaction_2</td>\n",
       "      <td>CARD_PAYMENT</td>\n",
       "      <td>AED</td>\n",
       "      <td>43.40</td>\n",
       "      <td>ARE</td>\n",
       "      <td>user_1652</td>\n",
       "      <td>2019-03-18 18:53:41.323032</td>\n",
       "      <td>2019-03</td>\n",
       "    </tr>\n",
       "    <tr>\n",
       "      <th>3</th>\n",
       "      <td>transaction_3</td>\n",
       "      <td>TRANSFER</td>\n",
       "      <td>AED</td>\n",
       "      <td>10043.01</td>\n",
       "      <td>NaN</td>\n",
       "      <td>user_1652</td>\n",
       "      <td>2019-03-22 14:20:01.513032</td>\n",
       "      <td>2019-03</td>\n",
       "    </tr>\n",
       "    <tr>\n",
       "      <th>4</th>\n",
       "      <td>transaction_4</td>\n",
       "      <td>CARD_PAYMENT</td>\n",
       "      <td>AED</td>\n",
       "      <td>43.81</td>\n",
       "      <td>ARE</td>\n",
       "      <td>user_5509</td>\n",
       "      <td>2019-03-22 05:42:50.316652</td>\n",
       "      <td>2019-03</td>\n",
       "    </tr>\n",
       "  </tbody>\n",
       "</table>\n",
       "</div>"
      ],
      "text/plain": [
       "  transaction_id transactions_type transactions_currency    amount  \\\n",
       "0  transaction_0          TRANSFER                   AED      4.55   \n",
       "1  transaction_1      CARD_PAYMENT                   AED     15.50   \n",
       "2  transaction_2      CARD_PAYMENT                   AED     43.40   \n",
       "3  transaction_3          TRANSFER                   AED  10043.01   \n",
       "4  transaction_4      CARD_PAYMENT                   AED     43.81   \n",
       "\n",
       "  merchant_country    user_id               created_date year_month  \n",
       "0              NaN   user_898 2018-04-03 03:34:21.784487    2018-04  \n",
       "1              ARE  user_1652 2019-03-19 06:15:59.537032    2019-03  \n",
       "2              ARE  user_1652 2019-03-18 18:53:41.323032    2019-03  \n",
       "3              NaN  user_1652 2019-03-22 14:20:01.513032    2019-03  \n",
       "4              ARE  user_5509 2019-03-22 05:42:50.316652    2019-03  "
      ]
     },
     "execution_count": 10,
     "metadata": {},
     "output_type": "execute_result"
    }
   ],
   "source": [
    "# Transform created_date to aid analysis\n",
    "df_transactions['year_month'] = df_transactions['created_date'].dt.to_period('M')\n",
    "df_transactions.head()"
   ]
  },
  {
   "cell_type": "code",
   "execution_count": null,
   "metadata": {},
   "outputs": [],
   "source": []
  },
  {
   "cell_type": "code",
   "execution_count": 11,
   "metadata": {},
   "outputs": [
    {
     "data": {
      "text/html": [
       "<div>\n",
       "<style scoped>\n",
       "    .dataframe tbody tr th:only-of-type {\n",
       "        vertical-align: middle;\n",
       "    }\n",
       "\n",
       "    .dataframe tbody tr th {\n",
       "        vertical-align: top;\n",
       "    }\n",
       "\n",
       "    .dataframe thead th {\n",
       "        text-align: right;\n",
       "    }\n",
       "</style>\n",
       "<table border=\"1\" class=\"dataframe\">\n",
       "  <thead>\n",
       "    <tr style=\"text-align: right;\">\n",
       "      <th></th>\n",
       "      <th>month</th>\n",
       "      <th>active_user</th>\n",
       "    </tr>\n",
       "  </thead>\n",
       "  <tbody>\n",
       "    <tr>\n",
       "      <th>0</th>\n",
       "      <td>2018-01</td>\n",
       "      <td>user_0</td>\n",
       "    </tr>\n",
       "    <tr>\n",
       "      <th>1</th>\n",
       "      <td>2018-01</td>\n",
       "      <td>user_1</td>\n",
       "    </tr>\n",
       "    <tr>\n",
       "      <th>2</th>\n",
       "      <td>2018-01</td>\n",
       "      <td>user_10</td>\n",
       "    </tr>\n",
       "    <tr>\n",
       "      <th>3</th>\n",
       "      <td>2018-01</td>\n",
       "      <td>user_100</td>\n",
       "    </tr>\n",
       "    <tr>\n",
       "      <th>4</th>\n",
       "      <td>2018-01</td>\n",
       "      <td>user_1000</td>\n",
       "    </tr>\n",
       "  </tbody>\n",
       "</table>\n",
       "</div>"
      ],
      "text/plain": [
       "     month active_user\n",
       "0  2018-01      user_0\n",
       "1  2018-01      user_1\n",
       "2  2018-01     user_10\n",
       "3  2018-01    user_100\n",
       "4  2018-01   user_1000"
      ]
     },
     "execution_count": 11,
     "metadata": {},
     "output_type": "execute_result"
    }
   ],
   "source": [
    "# Aggregate records\n",
    "df_transactions_grouped = df_transactions.groupby(by=['year_month','user_id'], as_index=False).count()[['year_month','user_id']]\n",
    "df_transactions_grouped.rename(columns={\"year_month\": \"month\", \"user_id\": \"active_user\"}, inplace=True)\n",
    "df_transactions_grouped.head()"
   ]
  },
  {
   "cell_type": "markdown",
   "metadata": {},
   "source": [
    "The table above shows a view of users that did transactions grouped by the month the transactions were done."
   ]
  },
  {
   "cell_type": "code",
   "execution_count": 12,
   "metadata": {},
   "outputs": [],
   "source": [
    "# Aggregate records\n",
    "df_transactions_plot = df_transactions.groupby(by='year_month', as_index=False).agg({'user_id': pd.Series.nunique})\n",
    "df_transactions_plot.rename(columns={\"year_month\": \"month\", \"user_id\": \"active_user_count\"}, inplace=True)"
   ]
  },
  {
   "cell_type": "code",
   "execution_count": 13,
   "metadata": {},
   "outputs": [],
   "source": [
    "def get_inactive_user_count(month, df_usrs, df_trxs):\n",
    "    '''extracts active users from the userbase and counts the number not active for the month.'''\n",
    "    df_current_month = df_trxs[df_trxs['month'] == month]  \n",
    "    df_inactive_users = df_usrs[~df_usrs['user_id'].isin(df_current_month.active_user.to_list())]\n",
    "    return len(df_inactive_users)"
   ]
  },
  {
   "cell_type": "code",
   "execution_count": 14,
   "metadata": {},
   "outputs": [
    {
     "data": {
      "text/html": [
       "<div>\n",
       "<style scoped>\n",
       "    .dataframe tbody tr th:only-of-type {\n",
       "        vertical-align: middle;\n",
       "    }\n",
       "\n",
       "    .dataframe tbody tr th {\n",
       "        vertical-align: top;\n",
       "    }\n",
       "\n",
       "    .dataframe thead th {\n",
       "        text-align: right;\n",
       "    }\n",
       "</style>\n",
       "<table border=\"1\" class=\"dataframe\">\n",
       "  <thead>\n",
       "    <tr style=\"text-align: right;\">\n",
       "      <th></th>\n",
       "      <th>month</th>\n",
       "      <th>active_user_count</th>\n",
       "      <th>inactive_user_count</th>\n",
       "    </tr>\n",
       "  </thead>\n",
       "  <tbody>\n",
       "    <tr>\n",
       "      <th>0</th>\n",
       "      <td>2018-01</td>\n",
       "      <td>778</td>\n",
       "      <td>18652</td>\n",
       "    </tr>\n",
       "    <tr>\n",
       "      <th>1</th>\n",
       "      <td>2018-02</td>\n",
       "      <td>1301</td>\n",
       "      <td>18129</td>\n",
       "    </tr>\n",
       "    <tr>\n",
       "      <th>2</th>\n",
       "      <td>2018-03</td>\n",
       "      <td>2771</td>\n",
       "      <td>16659</td>\n",
       "    </tr>\n",
       "    <tr>\n",
       "      <th>3</th>\n",
       "      <td>2018-04</td>\n",
       "      <td>3037</td>\n",
       "      <td>16393</td>\n",
       "    </tr>\n",
       "    <tr>\n",
       "      <th>4</th>\n",
       "      <td>2018-05</td>\n",
       "      <td>4138</td>\n",
       "      <td>15292</td>\n",
       "    </tr>\n",
       "  </tbody>\n",
       "</table>\n",
       "</div>"
      ],
      "text/plain": [
       "     month  active_user_count  inactive_user_count\n",
       "0  2018-01                778                18652\n",
       "1  2018-02               1301                18129\n",
       "2  2018-03               2771                16659\n",
       "3  2018-04               3037                16393\n",
       "4  2018-05               4138                15292"
      ]
     },
     "execution_count": 14,
     "metadata": {},
     "output_type": "execute_result"
    }
   ],
   "source": [
    "# Get inactive user count\n",
    "df_transactions_plot['inactive_user_count'] = df_transactions_plot.apply(lambda row: get_inactive_user_count(row['month'], df_users, df_transactions_grouped), axis=1)\n",
    "df_transactions_plot.head()"
   ]
  },
  {
   "cell_type": "markdown",
   "metadata": {},
   "source": [
    "The table above is an extraction of the monthly count of active and inactive users"
   ]
  },
  {
   "cell_type": "code",
   "execution_count": 22,
   "metadata": {},
   "outputs": [
    {
     "data": {
      "image/png": "[encoded data removed]",
      "text/plain": [
       "<Figure size 1080x432 with 1 Axes>"
      ]
     },
     "metadata": {},
     "output_type": "display_data"
    }
   ],
   "source": [
    "# plot the count of monthly active users\n",
    "sns.set(style=\"whitegrid\",font_scale=1.05)\n",
    "sns.set_color_codes(\"pastel\")\n",
    "ax = plt.subplots(figsize=(15,6))\n",
    "bplot = sns.barplot(x='month',y='active_user_count', data=df_transactions_plot, color='royalblue',alpha=0.8)\n",
    "\n",
    "for index, row in df_transactions_plot.iterrows():\n",
    "    bplot.text(row.name,row.active_user_count, round(row.active_user_count,2), color='black', ha=\"center\");\n",
    "    \n",
    "# Add informative axis label\n",
    "sns.despine(left=True, bottom=True)"
   ]
  },
  {
   "cell_type": "code",
   "execution_count": 23,
   "metadata": {},
   "outputs": [
    {
     "data": {
      "image/png": "[encoded data removed]",
      "text/plain": [
       "<Figure size 1080x432 with 1 Axes>"
      ]
     },
     "metadata": {},
     "output_type": "display_data"
    }
   ],
   "source": [
    "# plot the count of monthly inactive users\n",
    "sns.set(style=\"whitegrid\",font_scale=1.05)\n",
    "sns.set_color_codes(\"pastel\")\n",
    "ax = plt.subplots(figsize=(15,6))\n",
    "bplot = sns.barplot(x='month',y='inactive_user_count', data=df_transactions_plot,alpha=0.8, color='royalblue')\n",
    "\n",
    "for index, row in df_transactions_plot.iterrows():\n",
    "    bplot.text(row.name,row.inactive_user_count, round(row.inactive_user_count,2), color='black', ha=\"center\");\n",
    "\n",
    "sns.despine(left=True, bottom=True)"
   ]
  },
  {
   "cell_type": "code",
   "execution_count": 17,
   "metadata": {},
   "outputs": [
    {
     "data": {
      "image/png": "[encoded data removed]",
      "text/plain": [
       "<Figure size 504x504 with 1 Axes>"
      ]
     },
     "metadata": {},
     "output_type": "display_data"
    }
   ],
   "source": [
    "# Create lmplot\n",
    "sns.set(style=\"whitegrid\",font_scale=1.05)\n",
    "lm = sns.lmplot(y='inactive_user_count', x='active_user_count',data= df_transactions_plot, height=7, truncate=False, scatter_kws={\"s\": 100})\n",
    "fig = lm.fig \n",
    "fig.suptitle('Plot of inactive and active user count', fontsize=15)\n",
    "plt.show()"
   ]
  },
  {
   "cell_type": "markdown",
   "metadata": {},
   "source": [
    "From the active_user_count plot, there is a steady rise in the number of monthly active users. The steady month on month rise possibly depicts a new feature or new product launch to an existing user base.\n",
    "\n",
    "Observations from the plot of inactive and active user count, it shows a correlation between the 'active_user_count' and 'inactive_user_count' this further speaks to the monthly active user rise.\n",
    "\n",
    "A noticeable step difference which is higher than previous bar differences can be observed between 2018-11 and 2018-12, this sharp increase was likely triggered by festivity, the range 2018-11 to 2018-12 is largely filled with various Christmas season activities like vacationing, shopping and parties.\n",
    "\n",
    "The monthly active user metric is good to use in measuring user engagement."
   ]
  }
 ],
 "metadata": {
  "kernelspec": {
   "display_name": "Python 3",
   "language": "python",
   "name": "python3"
  },
  "language_info": {
   "codemirror_mode": {
    "name": "ipython",
    "version": 3
   },
   "file_extension": ".py",
   "mimetype": "text/x-python",
   "name": "python",
   "nbconvert_exporter": "python",
   "pygments_lexer": "ipython3",
   "version": "3.7.4"
  }
 },
 "nbformat": 4,
 "nbformat_minor": 2
}
