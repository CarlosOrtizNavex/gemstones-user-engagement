{
 "cells": [
  {
   "cell_type": "markdown",
   "metadata": {},
   "source": [
    "**Provide guidance on how the team should reduce churn**\n",
    "\n",
    "The team needs to build other required components/systems that makes up an end to end machine learning solution\n",
    "and delopy to the production environment.\n",
    "The identified unengaged users can be put on a winback-programme aimed at making the users become engaged, this is \n",
    "also known as reducing churn."
   ]
  },
  {
   "cell_type": "markdown",
   "metadata": {},
   "source": [
    "**Describe a test method to know if the implementation is really reducing churn**\n",
    "\n",
    "At the start of the implementation of the business activities to try to convert them to engaged users, a count of the total number of users then will be taken, a duration of 3 or 6months has agreed to by the business stakeholders should be set as the observation window to record the activities of the users. At the end of the defined observation period, a count of users who kept using the product will be taken.\n",
    "\n",
    "The metric to use for this experiment is: `Customer Retention Rate (CRR)`\n",
    "\n",
    "Number of users at the end of a period **(E)**<br>\n",
    "Number of new users acquired during that period **(N)**<br>\n",
    "Number of users at the start of that period **(S)**<br>\n",
    "\n",
    "**`Customer Retention Rate = ((E-N)/S)*100`**\n"
   ]
  },
  {
   "cell_type": "markdown",
   "metadata": {},
   "source": [
    "**Describe how will you measure the impact of the solution on the business revenue?**\n",
    "\n",
    "The impact of the business action can be assessed by tracking the revenue of the business.\n",
    "\n",
    "- The metric `Dollar Retention Rate (DRR)` can be used for this impact assessment\n",
    "- The Cohort analysis technique can be used\n",
    "- Customer Lifetime Value can be calculated also\n",
    "\n"
   ]
  },
  {
   "cell_type": "code",
   "execution_count": null,
   "metadata": {},
   "outputs": [],
   "source": []
  }
 ],
 "metadata": {
  "kernelspec": {
   "display_name": "Python 3",
   "language": "python",
   "name": "python3"
  },
  "language_info": {
   "codemirror_mode": {
    "name": "ipython",
    "version": 3
   },
   "file_extension": ".py",
   "mimetype": "text/x-python",
   "name": "python",
   "nbconvert_exporter": "python",
   "pygments_lexer": "ipython3",
   "version": "3.7.4"
  }
 },
 "nbformat": 4,
 "nbformat_minor": 2
}
